{
  "nbformat": 4,
  "nbformat_minor": 0,
  "metadata": {
    "colab": {
      "provenance": []
    },
    "kernelspec": {
      "name": "python3",
      "display_name": "Python 3"
    }
  },
  "cells": [
    {
      "cell_type": "markdown",
      "metadata": {
        "id": "9ku0h8OsoHJz"
      },
      "source": [
        "<p align=\"center\"><img src=\"https://www.insaid.co/wp-content/uploads/2021/05/insaid-text-logo-2x.png\" width=\"260\" height=\"110\" /></p>"
      ]
    },
    {
      "cell_type": "markdown",
      "metadata": {
        "id": "NWvRwRdGoK5Y"
      },
      "source": [
        "---\n",
        "# **Table of Contents**\n",
        "---\n",
        "\n",
        "1. [**Introduction**](#Section1)<br>\n",
        "2. [**Problem Statement**](#Section2)<br>\n",
        "3. [**Installing & Importing Libraries**](#Section3)<br>\n",
        "  3.1 [**Installing Libraries**](#Section31)<br>\n",
        "  3.2 [**Upgrading Libraries**](#Section32)<br>\n",
        "  3.3 [**Importing Libraries**](#Section33)<br>\n",
        "4. [**Data Acquisition & Description**](#Section4)<br>\n",
        "5. [**Data Pre-Profiling**](#Section5)<br>\n",
        "6. [**Data Pre-Processing**](#Section6)<br>\n",
        "7. [**Data Post-Profiling**](#Section7)<br>\n",
        "8. [**Exploratory Data Analysis**](#Section8)<br>\n",
        "9. [**Summarization**](#Section9)</br>\n",
        "  9.1 [**Conclusion**](#Section91)</br>\n",
        "  9.2 [**Actionable Insights**](#Section91)</br>\n",
        "\n",
        "---"
      ]
    },
    {
      "cell_type": "markdown",
      "metadata": {
        "id": "iACv_4iIoaLi"
      },
      "source": [
        "---\n",
        "<a name = Section1></a>\n",
        "# **1. Introduction**\n",
        "---\n",
        "\n",
        "- Facebook is an online social media and **social networking service** owned by American company Meta Platforms. \n",
        "\n",
        "- **Founded in 2004 by Mark Zuckerberg** with fellow Harvard College students and roommates Eduardo Saverin, Andrew McCollum, Dustin Moskovitz, and Chris Hughes, its name comes from the face book directories often given to American university students. \n",
        "- Membership was initially limited to Harvard students, gradually expanding to other **North American universities and, since 2006**, anyone over 13 years old. \n",
        "- As of July 2022, Facebook claimed **2.93 billion monthly active users**, and **ranked third** worldwide among the **most visited websites** as of July 2022. It was the most downloaded mobile app of the 2010s.\n",
        "\n",
        "<p align=\"center\"><img src=\"https://chi2016.acm.org/wp/wp-content/uploads/2016/02/Facebook-06-2015-Blue.png\"></p>\n",
        "\n",
        "- Some of the major features available on Facebook are:\n",
        " - Posting **articles**, **photos**, and **videos**\n",
        "\n",
        " - Anyone can **like or comment** on the posts.\n",
        " - You have **control over** who **sees**, **likes**, or **comments** on your posts.\n",
        " - You can connect with a large number of people, make friends, message them, and see their activities as much as they allow.\n",
        " - You can search for anyone on Facebook and ask them to be your friend. There are a variety of searches available; you can search by location, college you have attended, friend of a friend, etc.\n",
        "- You can follow renowned individuals. When they submit content, they receive several likes and views. Several individuals comment on them.\n",
        " "
      ]
    },
    {
      "cell_type": "markdown",
      "metadata": {
        "id": "sOGJAM3AoePy"
      },
      "source": [
        "---\n",
        "<a name = Section2></a>\n",
        "# **2. Problem Statement**\n",
        "---\n",
        "\n",
        "Facebook is one of the most widely used social networks. Individuals enjoy sharing content in the form of text articles, images, and videos, among other formats.\n",
        "* Individuals of all ages are active on the site; they publish information that others like, comment on, and share.\n",
        "\n",
        "* Each group has a distinct pattern or behavioural tendency. These behaviours are crucial for the author of the content, the connected businesses, and the platform itself. Facebook can utilise the data to enhance the services of the platform.\n",
        "* We will see how men and women are influencing the system's dynamics.\n",
        "* The length of time individuals spend on Facebook\n",
        "*Based on their similarities or differences, several age groups are involved.\n",
        "\n",
        "<u>**Scenario:**</u>\n",
        "\n",
        "An individual unfamiliar with the platform who wishes to understand why and how it can benefit them. We endeavour to answer the following questions:\n",
        "* What is the pattern of male and female friendship?\n",
        "\n",
        "* How does this pattern relate to age groups?\n",
        "* When a person publishes content, what is the expected habit?\n",
        "* How do various devices contribute to accessibility?\n",
        "* What is the trend of inactive individuals?.\n",
        "  "
      ]
    },
    {
      "cell_type": "markdown",
      "metadata": {
        "id": "yzSAH3m9pLWi"
      },
      "source": [
        "---\n",
        "<a id = Section3></a>\n",
        "# **3. Installing & Importing Libraries**\n",
        "---\n",
        "\n",
        "- This section is emphasised on installing and importing the necessary libraries that will be required."
      ]
    },
    {
      "cell_type": "markdown",
      "metadata": {
        "id": "M0y7joFPpOuQ"
      },
      "source": [
        "### **Installing Libraries**"
      ]
    },
    {
      "cell_type": "code",
      "metadata": {
        "id": "S3pqantTnmxX",
        "colab": {
          "base_uri": "https://localhost:8080/"
        },
        "outputId": "5df8f7f6-c060-4e35-ff7e-f15009f822cb"
      },
      "source": [
        "!pip install -q datascience                                         # Package that is required by pandas profiling\n",
        "!pip install -q pandas-profiling                                    # Library to generate basic statistics about data\n",
        "# To install more libraries insert your code here.."
      ],
      "execution_count": null,
      "outputs": [
        {
          "output_type": "stream",
          "name": "stdout",
          "text": [
            "\u001b[?25l     \u001b[90m━━━━━━━━━━━━━━━━━━━━━━━━━━━━━━━━━━━━━━━━\u001b[0m \u001b[32m0.0/1.6 MB\u001b[0m \u001b[31m?\u001b[0m eta \u001b[36m-:--:--\u001b[0m\r\u001b[2K     \u001b[91m━━━━━━━━━━\u001b[0m\u001b[90m╺\u001b[0m\u001b[90m━━━━━━━━━━━━━━━━━━━━━━━━━━━━━\u001b[0m \u001b[32m0.4/1.6 MB\u001b[0m \u001b[31m11.8 MB/s\u001b[0m eta \u001b[36m0:00:01\u001b[0m\r\u001b[2K     \u001b[91m━━━━━━━━━━━━━━━━━━━━━━━━━━━━━━━━━━━━━━━\u001b[0m\u001b[91m╸\u001b[0m \u001b[32m1.6/1.6 MB\u001b[0m \u001b[31m27.5 MB/s\u001b[0m eta \u001b[36m0:00:01\u001b[0m\r\u001b[2K     \u001b[90m━━━━━━━━━━━━━━━━━━━━━━━━━━━━━━━━━━━━━━━━\u001b[0m \u001b[32m1.6/1.6 MB\u001b[0m \u001b[31m18.1 MB/s\u001b[0m eta \u001b[36m0:00:00\u001b[0m\n",
            "\u001b[?25h"
          ]
        }
      ]
    },
    {
      "cell_type": "markdown",
      "metadata": {
        "id": "pYQrkcl4pe8J"
      },
      "source": [
        "### **Upgrading Libraries**\n",
        "\n",
        "- **After upgrading** the libraries, you need to **restart the runtime** to make the libraries in sync.\n",
        "\n",
        "- Make sure not to execute the cell under Installing Libraries and Upgrading Libraries again after restarting the runtime."
      ]
    },
    {
      "cell_type": "code",
      "metadata": {
        "id": "dmiiVvd-phhY",
        "colab": {
          "base_uri": "https://localhost:8080/"
        },
        "outputId": "8cab16e1-89d9-403f-b68d-71224c4b00be"
      },
      "source": [
        "!pip install -q --upgrade pandas-profiling                          # Upgrading pandas profiling to the latest version"
      ],
      "execution_count": null,
      "outputs": [
        {
          "output_type": "stream",
          "name": "stdout",
          "text": [
            "\u001b[?25l     \u001b[90m━━━━━━━━━━━━━━━━━━━━━━━━━━━━━━━━━━━━━━━━\u001b[0m \u001b[32m0.0/324.4 KB\u001b[0m \u001b[31m?\u001b[0m eta \u001b[36m-:--:--\u001b[0m\r\u001b[2K     \u001b[91m━━━━━━━━━━━━━━━━━━━━━━━━━━━━━━━━━━━━━\u001b[0m\u001b[90m╺\u001b[0m \u001b[32m317.4/324.4 KB\u001b[0m \u001b[31m10.5 MB/s\u001b[0m eta \u001b[36m0:00:01\u001b[0m\r\u001b[2K     \u001b[90m━━━━━━━━━━━━━━━━━━━━━━━━━━━━━━━━━━━━━━━\u001b[0m \u001b[32m324.4/324.4 KB\u001b[0m \u001b[31m6.8 MB/s\u001b[0m eta \u001b[36m0:00:00\u001b[0m\n",
            "\u001b[2K     \u001b[90m━━━━━━━━━━━━━━━━━━━━━━━━━━━━━━━━━━━━━━\u001b[0m \u001b[32m344.5/344.5 KB\u001b[0m \u001b[31m21.5 MB/s\u001b[0m eta \u001b[36m0:00:00\u001b[0m\n",
            "\u001b[2K     \u001b[90m━━━━━━━━━━━━━━━━━━━━━━━━━━━━━━━━━━━━━━\u001b[0m \u001b[32m679.5/679.5 KB\u001b[0m \u001b[31m35.4 MB/s\u001b[0m eta \u001b[36m0:00:00\u001b[0m\n",
            "\u001b[?25h  Preparing metadata (setup.py) ... \u001b[?25l\u001b[?25hdone\n",
            "\u001b[2K     \u001b[90m━━━━━━━━━━━━━━━━━━━━━━━━━━━━━━━━━━━━━━━━\u001b[0m \u001b[32m9.9/9.9 MB\u001b[0m \u001b[31m65.6 MB/s\u001b[0m eta \u001b[36m0:00:00\u001b[0m\n",
            "\u001b[2K     \u001b[90m━━━━━━━━━━━━━━━━━━━━━━━━━━━━━━━━━━━━━━\u001b[0m \u001b[32m102.7/102.7 KB\u001b[0m \u001b[31m11.1 MB/s\u001b[0m eta \u001b[36m0:00:00\u001b[0m\n",
            "\u001b[2K     \u001b[90m━━━━━━━━━━━━━━━━━━━━━━━━━━━━━━━━━━━━━━━━\u001b[0m \u001b[32m4.7/4.7 MB\u001b[0m \u001b[31m49.2 MB/s\u001b[0m eta \u001b[36m0:00:00\u001b[0m\n",
            "\u001b[2K     \u001b[90m━━━━━━━━━━━━━━━━━━━━━━━━━━━━━━━━━━━━━━\u001b[0m \u001b[32m296.5/296.5 KB\u001b[0m \u001b[31m23.3 MB/s\u001b[0m eta \u001b[36m0:00:00\u001b[0m\n",
            "\u001b[?25h  Building wheel for htmlmin (setup.py) ... \u001b[?25l\u001b[?25hdone\n"
          ]
        }
      ]
    },
    {
      "cell_type": "markdown",
      "metadata": {
        "id": "PbyRyjDhpoJj"
      },
      "source": [
        "### **Importing Libraries**\n",
        "\n",
        "- You can headstart with the basic libraries as imported inside the cell below.\n",
        "\n",
        "- If you want to import some additional libraries, feel free to do so.\n"
      ]
    },
    {
      "cell_type": "code",
      "metadata": {
        "id": "5RapekFlpptb",
        "colab": {
          "base_uri": "https://localhost:8080/"
        },
        "outputId": "bc43135b-aa52-457e-ed61-6d93deb0cd68"
      },
      "source": [
        "#-------------------------------------------------------------------------------------------------------------------------------\n",
        "import pandas as pd                                                 # Importing package pandas (For Panel Data Analysis)\n",
        "from pandas_profiling import ProfileReport                          # Import Pandas Profiling (To generate Univariate Analysis)\n",
        "#-------------------------------------------------------------------------------------------------------------------------------\n",
        "import numpy as np                                                  # Importing package numpys (For Numerical Python)\n",
        "#-------------------------------------------------------------------------------------------------------------------------------\n",
        "import matplotlib.pyplot as plt                                     # Importing pyplot interface to use matplotlib\n",
        "import seaborn as sns                                               # Importing seaborn library for interactive visualization\n",
        "%matplotlib inline\n",
        "#-------------------------------------------------------------------------------------------------------------------------------\n",
        "import scipy as sp                                                  # Importing library for scientific calculations\n",
        "#-------------------------------------------------------------------------------------------------------------------------------"
      ],
      "execution_count": null,
      "outputs": [
        {
          "output_type": "stream",
          "name": "stderr",
          "text": [
            "<ipython-input-3-c7a875daabd3>:3: DeprecationWarning: `import pandas_profiling` is going to be deprecated by April 1st. Please use `import ydata_profiling` instead.\n",
            "  from pandas_profiling import ProfileReport                          # Import Pandas Profiling (To generate Univariate Analysis)\n"
          ]
        }
      ]
    },
    {
      "cell_type": "markdown",
      "metadata": {
        "id": "ys9Qb4OlpzvZ"
      },
      "source": [
        "---\n",
        "<a name = Section4></a>\n",
        "# **4. Data Acquisition & Description**\n",
        "---\n",
        "\n",
        "- This section is emphasised on the accquiring the data and obtain some descriptive information out of it.\n",
        "\n",
        "- You could either scrap the data and then continue, or use a direct source of link (generally preferred in most cases).\n",
        "\n",
        "- You will be working with a direct source of link to head start your work without worrying about anything.\n",
        "\n",
        "- Before going further you must have a good idea about the features of the data set:\n",
        "\n",
        "|Id|Feature|Description|\n",
        "|:--|:--|:--|\n",
        "|01| userid                 | A numeric value uniquely identifying the user.|\n",
        "|02| age                    | Age of the user in years.|\n",
        "|03| dob_day                | Day part of the user's date of birth.|\n",
        "|04| dob_year               | Year part of the user's date of birth.| \n",
        "|05| dob_month              | Month part of the user's date of birth.|\n",
        "|06| gender                 | Gender of the user.| \n",
        "|07| tenure                 | Number of days since the user has been on FB.|\n",
        "|08| friend_count           | Number of friends the user has.|\n",
        "|09| friendships_initiated  | Number of friendships initiated by the user.|\n",
        "|10| likes                  | Total number of posts liked by the user.|\n",
        "|11| likes_received         | Total Number of likes received by user's posts.|\n",
        "|12| mobile_likes           | Number of posts liked by the user through mobile app.|\n",
        "|13| mobile_likes_received  | Number of likes received by user through mobile app.|\n",
        "|14| www_likes              | Number of posts liked by the user through web.|\n",
        "|15| www_likes_received     | Number of likes received by user  through web.| \n"
      ]
    },
    {
      "cell_type": "code",
      "metadata": {
        "id": "aXPrewndpw1T",
        "colab": {
          "base_uri": "https://localhost:8080/",
          "height": 444
        },
        "outputId": "c425fb1a-85fc-46c7-9ffb-d8a084620546"
      },
      "source": [
        "data = pd.read_csv(filepath_or_buffer = 'https://raw.githubusercontent.com/insaid2018/Term-1/master/Data/Projects/facebook_data.csv')\n",
        "print('Data Shape:', data.shape)\n",
        "data.head(10)"
      ],
      "execution_count": null,
      "outputs": [
        {
          "output_type": "stream",
          "name": "stdout",
          "text": [
            "Data Shape: (99003, 15)\n"
          ]
        },
        {
          "output_type": "execute_result",
          "data": {
            "text/plain": [
              "    userid  age  dob_day  dob_year  dob_month  gender  tenure  friend_count  \\\n",
              "0  2094382   14       19      1999         11    male   266.0             0   \n",
              "1  1192601   14        2      1999         11  female     6.0             0   \n",
              "2  2083884   14       16      1999         11    male    13.0             0   \n",
              "3  1203168   14       25      1999         12  female    93.0             0   \n",
              "4  1733186   14        4      1999         12    male    82.0             0   \n",
              "5  1524765   14        1      1999         12    male    15.0             0   \n",
              "6  1136133   13       14      2000          1    male    12.0             0   \n",
              "7  1680361   13        4      2000          1  female     0.0             0   \n",
              "8  1365174   13        1      2000          1    male    81.0             0   \n",
              "9  1712567   13        2      2000          2    male   171.0             0   \n",
              "\n",
              "   friendships_initiated  likes  likes_received  mobile_likes  \\\n",
              "0                      0      0               0             0   \n",
              "1                      0      0               0             0   \n",
              "2                      0      0               0             0   \n",
              "3                      0      0               0             0   \n",
              "4                      0      0               0             0   \n",
              "5                      0      0               0             0   \n",
              "6                      0      0               0             0   \n",
              "7                      0      0               0             0   \n",
              "8                      0      0               0             0   \n",
              "9                      0      0               0             0   \n",
              "\n",
              "   mobile_likes_received  www_likes  www_likes_received  \n",
              "0                      0          0                   0  \n",
              "1                      0          0                   0  \n",
              "2                      0          0                   0  \n",
              "3                      0          0                   0  \n",
              "4                      0          0                   0  \n",
              "5                      0          0                   0  \n",
              "6                      0          0                   0  \n",
              "7                      0          0                   0  \n",
              "8                      0          0                   0  \n",
              "9                      0          0                   0  "
            ],
            "text/html": [
              "\n",
              "  <div id=\"df-a38297e6-5301-4a78-935e-d56fc0b0745d\">\n",
              "    <div class=\"colab-df-container\">\n",
              "      <div>\n",
              "<style scoped>\n",
              "    .dataframe tbody tr th:only-of-type {\n",
              "        vertical-align: middle;\n",
              "    }\n",
              "\n",
              "    .dataframe tbody tr th {\n",
              "        vertical-align: top;\n",
              "    }\n",
              "\n",
              "    .dataframe thead th {\n",
              "        text-align: right;\n",
              "    }\n",
              "</style>\n",
              "<table border=\"1\" class=\"dataframe\">\n",
              "  <thead>\n",
              "    <tr style=\"text-align: right;\">\n",
              "      <th></th>\n",
              "      <th>userid</th>\n",
              "      <th>age</th>\n",
              "      <th>dob_day</th>\n",
              "      <th>dob_year</th>\n",
              "      <th>dob_month</th>\n",
              "      <th>gender</th>\n",
              "      <th>tenure</th>\n",
              "      <th>friend_count</th>\n",
              "      <th>friendships_initiated</th>\n",
              "      <th>likes</th>\n",
              "      <th>likes_received</th>\n",
              "      <th>mobile_likes</th>\n",
              "      <th>mobile_likes_received</th>\n",
              "      <th>www_likes</th>\n",
              "      <th>www_likes_received</th>\n",
              "    </tr>\n",
              "  </thead>\n",
              "  <tbody>\n",
              "    <tr>\n",
              "      <th>0</th>\n",
              "      <td>2094382</td>\n",
              "      <td>14</td>\n",
              "      <td>19</td>\n",
              "      <td>1999</td>\n",
              "      <td>11</td>\n",
              "      <td>male</td>\n",
              "      <td>266.0</td>\n",
              "      <td>0</td>\n",
              "      <td>0</td>\n",
              "      <td>0</td>\n",
              "      <td>0</td>\n",
              "      <td>0</td>\n",
              "      <td>0</td>\n",
              "      <td>0</td>\n",
              "      <td>0</td>\n",
              "    </tr>\n",
              "    <tr>\n",
              "      <th>1</th>\n",
              "      <td>1192601</td>\n",
              "      <td>14</td>\n",
              "      <td>2</td>\n",
              "      <td>1999</td>\n",
              "      <td>11</td>\n",
              "      <td>female</td>\n",
              "      <td>6.0</td>\n",
              "      <td>0</td>\n",
              "      <td>0</td>\n",
              "      <td>0</td>\n",
              "      <td>0</td>\n",
              "      <td>0</td>\n",
              "      <td>0</td>\n",
              "      <td>0</td>\n",
              "      <td>0</td>\n",
              "    </tr>\n",
              "    <tr>\n",
              "      <th>2</th>\n",
              "      <td>2083884</td>\n",
              "      <td>14</td>\n",
              "      <td>16</td>\n",
              "      <td>1999</td>\n",
              "      <td>11</td>\n",
              "      <td>male</td>\n",
              "      <td>13.0</td>\n",
              "      <td>0</td>\n",
              "      <td>0</td>\n",
              "      <td>0</td>\n",
              "      <td>0</td>\n",
              "      <td>0</td>\n",
              "      <td>0</td>\n",
              "      <td>0</td>\n",
              "      <td>0</td>\n",
              "    </tr>\n",
              "    <tr>\n",
              "      <th>3</th>\n",
              "      <td>1203168</td>\n",
              "      <td>14</td>\n",
              "      <td>25</td>\n",
              "      <td>1999</td>\n",
              "      <td>12</td>\n",
              "      <td>female</td>\n",
              "      <td>93.0</td>\n",
              "      <td>0</td>\n",
              "      <td>0</td>\n",
              "      <td>0</td>\n",
              "      <td>0</td>\n",
              "      <td>0</td>\n",
              "      <td>0</td>\n",
              "      <td>0</td>\n",
              "      <td>0</td>\n",
              "    </tr>\n",
              "    <tr>\n",
              "      <th>4</th>\n",
              "      <td>1733186</td>\n",
              "      <td>14</td>\n",
              "      <td>4</td>\n",
              "      <td>1999</td>\n",
              "      <td>12</td>\n",
              "      <td>male</td>\n",
              "      <td>82.0</td>\n",
              "      <td>0</td>\n",
              "      <td>0</td>\n",
              "      <td>0</td>\n",
              "      <td>0</td>\n",
              "      <td>0</td>\n",
              "      <td>0</td>\n",
              "      <td>0</td>\n",
              "      <td>0</td>\n",
              "    </tr>\n",
              "    <tr>\n",
              "      <th>5</th>\n",
              "      <td>1524765</td>\n",
              "      <td>14</td>\n",
              "      <td>1</td>\n",
              "      <td>1999</td>\n",
              "      <td>12</td>\n",
              "      <td>male</td>\n",
              "      <td>15.0</td>\n",
              "      <td>0</td>\n",
              "      <td>0</td>\n",
              "      <td>0</td>\n",
              "      <td>0</td>\n",
              "      <td>0</td>\n",
              "      <td>0</td>\n",
              "      <td>0</td>\n",
              "      <td>0</td>\n",
              "    </tr>\n",
              "    <tr>\n",
              "      <th>6</th>\n",
              "      <td>1136133</td>\n",
              "      <td>13</td>\n",
              "      <td>14</td>\n",
              "      <td>2000</td>\n",
              "      <td>1</td>\n",
              "      <td>male</td>\n",
              "      <td>12.0</td>\n",
              "      <td>0</td>\n",
              "      <td>0</td>\n",
              "      <td>0</td>\n",
              "      <td>0</td>\n",
              "      <td>0</td>\n",
              "      <td>0</td>\n",
              "      <td>0</td>\n",
              "      <td>0</td>\n",
              "    </tr>\n",
              "    <tr>\n",
              "      <th>7</th>\n",
              "      <td>1680361</td>\n",
              "      <td>13</td>\n",
              "      <td>4</td>\n",
              "      <td>2000</td>\n",
              "      <td>1</td>\n",
              "      <td>female</td>\n",
              "      <td>0.0</td>\n",
              "      <td>0</td>\n",
              "      <td>0</td>\n",
              "      <td>0</td>\n",
              "      <td>0</td>\n",
              "      <td>0</td>\n",
              "      <td>0</td>\n",
              "      <td>0</td>\n",
              "      <td>0</td>\n",
              "    </tr>\n",
              "    <tr>\n",
              "      <th>8</th>\n",
              "      <td>1365174</td>\n",
              "      <td>13</td>\n",
              "      <td>1</td>\n",
              "      <td>2000</td>\n",
              "      <td>1</td>\n",
              "      <td>male</td>\n",
              "      <td>81.0</td>\n",
              "      <td>0</td>\n",
              "      <td>0</td>\n",
              "      <td>0</td>\n",
              "      <td>0</td>\n",
              "      <td>0</td>\n",
              "      <td>0</td>\n",
              "      <td>0</td>\n",
              "      <td>0</td>\n",
              "    </tr>\n",
              "    <tr>\n",
              "      <th>9</th>\n",
              "      <td>1712567</td>\n",
              "      <td>13</td>\n",
              "      <td>2</td>\n",
              "      <td>2000</td>\n",
              "      <td>2</td>\n",
              "      <td>male</td>\n",
              "      <td>171.0</td>\n",
              "      <td>0</td>\n",
              "      <td>0</td>\n",
              "      <td>0</td>\n",
              "      <td>0</td>\n",
              "      <td>0</td>\n",
              "      <td>0</td>\n",
              "      <td>0</td>\n",
              "      <td>0</td>\n",
              "    </tr>\n",
              "  </tbody>\n",
              "</table>\n",
              "</div>\n",
              "      <button class=\"colab-df-convert\" onclick=\"convertToInteractive('df-a38297e6-5301-4a78-935e-d56fc0b0745d')\"\n",
              "              title=\"Convert this dataframe to an interactive table.\"\n",
              "              style=\"display:none;\">\n",
              "        \n",
              "  <svg xmlns=\"http://www.w3.org/2000/svg\" height=\"24px\"viewBox=\"0 0 24 24\"\n",
              "       width=\"24px\">\n",
              "    <path d=\"M0 0h24v24H0V0z\" fill=\"none\"/>\n",
              "    <path d=\"M18.56 5.44l.94 2.06.94-2.06 2.06-.94-2.06-.94-.94-2.06-.94 2.06-2.06.94zm-11 1L8.5 8.5l.94-2.06 2.06-.94-2.06-.94L8.5 2.5l-.94 2.06-2.06.94zm10 10l.94 2.06.94-2.06 2.06-.94-2.06-.94-.94-2.06-.94 2.06-2.06.94z\"/><path d=\"M17.41 7.96l-1.37-1.37c-.4-.4-.92-.59-1.43-.59-.52 0-1.04.2-1.43.59L10.3 9.45l-7.72 7.72c-.78.78-.78 2.05 0 2.83L4 21.41c.39.39.9.59 1.41.59.51 0 1.02-.2 1.41-.59l7.78-7.78 2.81-2.81c.8-.78.8-2.07 0-2.86zM5.41 20L4 18.59l7.72-7.72 1.47 1.35L5.41 20z\"/>\n",
              "  </svg>\n",
              "      </button>\n",
              "      \n",
              "  <style>\n",
              "    .colab-df-container {\n",
              "      display:flex;\n",
              "      flex-wrap:wrap;\n",
              "      gap: 12px;\n",
              "    }\n",
              "\n",
              "    .colab-df-convert {\n",
              "      background-color: #E8F0FE;\n",
              "      border: none;\n",
              "      border-radius: 50%;\n",
              "      cursor: pointer;\n",
              "      display: none;\n",
              "      fill: #1967D2;\n",
              "      height: 32px;\n",
              "      padding: 0 0 0 0;\n",
              "      width: 32px;\n",
              "    }\n",
              "\n",
              "    .colab-df-convert:hover {\n",
              "      background-color: #E2EBFA;\n",
              "      box-shadow: 0px 1px 2px rgba(60, 64, 67, 0.3), 0px 1px 3px 1px rgba(60, 64, 67, 0.15);\n",
              "      fill: #174EA6;\n",
              "    }\n",
              "\n",
              "    [theme=dark] .colab-df-convert {\n",
              "      background-color: #3B4455;\n",
              "      fill: #D2E3FC;\n",
              "    }\n",
              "\n",
              "    [theme=dark] .colab-df-convert:hover {\n",
              "      background-color: #434B5C;\n",
              "      box-shadow: 0px 1px 3px 1px rgba(0, 0, 0, 0.15);\n",
              "      filter: drop-shadow(0px 1px 2px rgba(0, 0, 0, 0.3));\n",
              "      fill: #FFFFFF;\n",
              "    }\n",
              "  </style>\n",
              "\n",
              "      <script>\n",
              "        const buttonEl =\n",
              "          document.querySelector('#df-a38297e6-5301-4a78-935e-d56fc0b0745d button.colab-df-convert');\n",
              "        buttonEl.style.display =\n",
              "          google.colab.kernel.accessAllowed ? 'block' : 'none';\n",
              "\n",
              "        async function convertToInteractive(key) {\n",
              "          const element = document.querySelector('#df-a38297e6-5301-4a78-935e-d56fc0b0745d');\n",
              "          const dataTable =\n",
              "            await google.colab.kernel.invokeFunction('convertToInteractive',\n",
              "                                                     [key], {});\n",
              "          if (!dataTable) return;\n",
              "\n",
              "          const docLinkHtml = 'Like what you see? Visit the ' +\n",
              "            '<a target=\"_blank\" href=https://colab.research.google.com/notebooks/data_table.ipynb>data table notebook</a>'\n",
              "            + ' to learn more about interactive tables.';\n",
              "          element.innerHTML = '';\n",
              "          dataTable['output_type'] = 'display_data';\n",
              "          await google.colab.output.renderOutput(dataTable, element);\n",
              "          const docLink = document.createElement('div');\n",
              "          docLink.innerHTML = docLinkHtml;\n",
              "          element.appendChild(docLink);\n",
              "        }\n",
              "      </script>\n",
              "    </div>\n",
              "  </div>\n",
              "  "
            ]
          },
          "metadata": {},
          "execution_count": 4
        }
      ]
    },
    {
      "cell_type": "markdown",
      "metadata": {
        "id": "FfkdFrL_qMPn"
      },
      "source": [
        "### **Data Description**\n",
        "\n",
        "- Here we will get the information about the data and see what is going on.."
      ]
    },
    {
      "cell_type": "code",
      "metadata": {
        "id": "cLs4jsSuqJjC",
        "colab": {
          "base_uri": "https://localhost:8080/",
          "height": 364
        },
        "outputId": "86db9a23-db6a-44cd-c708-45292d6db63b"
      },
      "source": [
        "data.describe()"
      ],
      "execution_count": null,
      "outputs": [
        {
          "output_type": "execute_result",
          "data": {
            "text/plain": [
              "             userid           age       dob_day      dob_year     dob_month  \\\n",
              "count  9.900300e+04  99003.000000  99003.000000  99003.000000  99003.000000   \n",
              "mean   1.597045e+06     37.280224     14.530408   1975.719776      6.283365   \n",
              "std    3.440592e+05     22.589748      9.015606     22.589748      3.529672   \n",
              "min    1.000008e+06     13.000000      1.000000   1900.000000      1.000000   \n",
              "25%    1.298806e+06     20.000000      7.000000   1963.000000      3.000000   \n",
              "50%    1.596148e+06     28.000000     14.000000   1985.000000      6.000000   \n",
              "75%    1.895744e+06     50.000000     22.000000   1993.000000      9.000000   \n",
              "max    2.193542e+06    113.000000     31.000000   2000.000000     12.000000   \n",
              "\n",
              "             tenure  friend_count  friendships_initiated         likes  \\\n",
              "count  99001.000000  99003.000000           99003.000000  99003.000000   \n",
              "mean     537.887375    196.350787             107.452471    156.078785   \n",
              "std      457.649874    387.304229             188.786951    572.280681   \n",
              "min        0.000000      0.000000               0.000000      0.000000   \n",
              "25%      226.000000     31.000000              17.000000      1.000000   \n",
              "50%      412.000000     82.000000              46.000000     11.000000   \n",
              "75%      675.000000    206.000000             117.000000     81.000000   \n",
              "max     3139.000000   4923.000000            4144.000000  25111.000000   \n",
              "\n",
              "       likes_received  mobile_likes  mobile_likes_received     www_likes  \\\n",
              "count    99003.000000  99003.000000           99003.000000  99003.000000   \n",
              "mean       142.689363    106.116300              84.120491     49.962425   \n",
              "std       1387.919613    445.252985             839.889444    285.560152   \n",
              "min          0.000000      0.000000               0.000000      0.000000   \n",
              "25%          1.000000      0.000000               0.000000      0.000000   \n",
              "50%          8.000000      4.000000               4.000000      0.000000   \n",
              "75%         59.000000     46.000000              33.000000      7.000000   \n",
              "max     261197.000000  25111.000000          138561.000000  14865.000000   \n",
              "\n",
              "       www_likes_received  \n",
              "count        99003.000000  \n",
              "mean            58.568831  \n",
              "std            601.416348  \n",
              "min              0.000000  \n",
              "25%              0.000000  \n",
              "50%              2.000000  \n",
              "75%             20.000000  \n",
              "max         129953.000000  "
            ],
            "text/html": [
              "\n",
              "  <div id=\"df-b55e7c4c-e4e1-4156-996f-92224129e781\">\n",
              "    <div class=\"colab-df-container\">\n",
              "      <div>\n",
              "<style scoped>\n",
              "    .dataframe tbody tr th:only-of-type {\n",
              "        vertical-align: middle;\n",
              "    }\n",
              "\n",
              "    .dataframe tbody tr th {\n",
              "        vertical-align: top;\n",
              "    }\n",
              "\n",
              "    .dataframe thead th {\n",
              "        text-align: right;\n",
              "    }\n",
              "</style>\n",
              "<table border=\"1\" class=\"dataframe\">\n",
              "  <thead>\n",
              "    <tr style=\"text-align: right;\">\n",
              "      <th></th>\n",
              "      <th>userid</th>\n",
              "      <th>age</th>\n",
              "      <th>dob_day</th>\n",
              "      <th>dob_year</th>\n",
              "      <th>dob_month</th>\n",
              "      <th>tenure</th>\n",
              "      <th>friend_count</th>\n",
              "      <th>friendships_initiated</th>\n",
              "      <th>likes</th>\n",
              "      <th>likes_received</th>\n",
              "      <th>mobile_likes</th>\n",
              "      <th>mobile_likes_received</th>\n",
              "      <th>www_likes</th>\n",
              "      <th>www_likes_received</th>\n",
              "    </tr>\n",
              "  </thead>\n",
              "  <tbody>\n",
              "    <tr>\n",
              "      <th>count</th>\n",
              "      <td>9.900300e+04</td>\n",
              "      <td>99003.000000</td>\n",
              "      <td>99003.000000</td>\n",
              "      <td>99003.000000</td>\n",
              "      <td>99003.000000</td>\n",
              "      <td>99001.000000</td>\n",
              "      <td>99003.000000</td>\n",
              "      <td>99003.000000</td>\n",
              "      <td>99003.000000</td>\n",
              "      <td>99003.000000</td>\n",
              "      <td>99003.000000</td>\n",
              "      <td>99003.000000</td>\n",
              "      <td>99003.000000</td>\n",
              "      <td>99003.000000</td>\n",
              "    </tr>\n",
              "    <tr>\n",
              "      <th>mean</th>\n",
              "      <td>1.597045e+06</td>\n",
              "      <td>37.280224</td>\n",
              "      <td>14.530408</td>\n",
              "      <td>1975.719776</td>\n",
              "      <td>6.283365</td>\n",
              "      <td>537.887375</td>\n",
              "      <td>196.350787</td>\n",
              "      <td>107.452471</td>\n",
              "      <td>156.078785</td>\n",
              "      <td>142.689363</td>\n",
              "      <td>106.116300</td>\n",
              "      <td>84.120491</td>\n",
              "      <td>49.962425</td>\n",
              "      <td>58.568831</td>\n",
              "    </tr>\n",
              "    <tr>\n",
              "      <th>std</th>\n",
              "      <td>3.440592e+05</td>\n",
              "      <td>22.589748</td>\n",
              "      <td>9.015606</td>\n",
              "      <td>22.589748</td>\n",
              "      <td>3.529672</td>\n",
              "      <td>457.649874</td>\n",
              "      <td>387.304229</td>\n",
              "      <td>188.786951</td>\n",
              "      <td>572.280681</td>\n",
              "      <td>1387.919613</td>\n",
              "      <td>445.252985</td>\n",
              "      <td>839.889444</td>\n",
              "      <td>285.560152</td>\n",
              "      <td>601.416348</td>\n",
              "    </tr>\n",
              "    <tr>\n",
              "      <th>min</th>\n",
              "      <td>1.000008e+06</td>\n",
              "      <td>13.000000</td>\n",
              "      <td>1.000000</td>\n",
              "      <td>1900.000000</td>\n",
              "      <td>1.000000</td>\n",
              "      <td>0.000000</td>\n",
              "      <td>0.000000</td>\n",
              "      <td>0.000000</td>\n",
              "      <td>0.000000</td>\n",
              "      <td>0.000000</td>\n",
              "      <td>0.000000</td>\n",
              "      <td>0.000000</td>\n",
              "      <td>0.000000</td>\n",
              "      <td>0.000000</td>\n",
              "    </tr>\n",
              "    <tr>\n",
              "      <th>25%</th>\n",
              "      <td>1.298806e+06</td>\n",
              "      <td>20.000000</td>\n",
              "      <td>7.000000</td>\n",
              "      <td>1963.000000</td>\n",
              "      <td>3.000000</td>\n",
              "      <td>226.000000</td>\n",
              "      <td>31.000000</td>\n",
              "      <td>17.000000</td>\n",
              "      <td>1.000000</td>\n",
              "      <td>1.000000</td>\n",
              "      <td>0.000000</td>\n",
              "      <td>0.000000</td>\n",
              "      <td>0.000000</td>\n",
              "      <td>0.000000</td>\n",
              "    </tr>\n",
              "    <tr>\n",
              "      <th>50%</th>\n",
              "      <td>1.596148e+06</td>\n",
              "      <td>28.000000</td>\n",
              "      <td>14.000000</td>\n",
              "      <td>1985.000000</td>\n",
              "      <td>6.000000</td>\n",
              "      <td>412.000000</td>\n",
              "      <td>82.000000</td>\n",
              "      <td>46.000000</td>\n",
              "      <td>11.000000</td>\n",
              "      <td>8.000000</td>\n",
              "      <td>4.000000</td>\n",
              "      <td>4.000000</td>\n",
              "      <td>0.000000</td>\n",
              "      <td>2.000000</td>\n",
              "    </tr>\n",
              "    <tr>\n",
              "      <th>75%</th>\n",
              "      <td>1.895744e+06</td>\n",
              "      <td>50.000000</td>\n",
              "      <td>22.000000</td>\n",
              "      <td>1993.000000</td>\n",
              "      <td>9.000000</td>\n",
              "      <td>675.000000</td>\n",
              "      <td>206.000000</td>\n",
              "      <td>117.000000</td>\n",
              "      <td>81.000000</td>\n",
              "      <td>59.000000</td>\n",
              "      <td>46.000000</td>\n",
              "      <td>33.000000</td>\n",
              "      <td>7.000000</td>\n",
              "      <td>20.000000</td>\n",
              "    </tr>\n",
              "    <tr>\n",
              "      <th>max</th>\n",
              "      <td>2.193542e+06</td>\n",
              "      <td>113.000000</td>\n",
              "      <td>31.000000</td>\n",
              "      <td>2000.000000</td>\n",
              "      <td>12.000000</td>\n",
              "      <td>3139.000000</td>\n",
              "      <td>4923.000000</td>\n",
              "      <td>4144.000000</td>\n",
              "      <td>25111.000000</td>\n",
              "      <td>261197.000000</td>\n",
              "      <td>25111.000000</td>\n",
              "      <td>138561.000000</td>\n",
              "      <td>14865.000000</td>\n",
              "      <td>129953.000000</td>\n",
              "    </tr>\n",
              "  </tbody>\n",
              "</table>\n",
              "</div>\n",
              "      <button class=\"colab-df-convert\" onclick=\"convertToInteractive('df-b55e7c4c-e4e1-4156-996f-92224129e781')\"\n",
              "              title=\"Convert this dataframe to an interactive table.\"\n",
              "              style=\"display:none;\">\n",
              "        \n",
              "  <svg xmlns=\"http://www.w3.org/2000/svg\" height=\"24px\"viewBox=\"0 0 24 24\"\n",
              "       width=\"24px\">\n",
              "    <path d=\"M0 0h24v24H0V0z\" fill=\"none\"/>\n",
              "    <path d=\"M18.56 5.44l.94 2.06.94-2.06 2.06-.94-2.06-.94-.94-2.06-.94 2.06-2.06.94zm-11 1L8.5 8.5l.94-2.06 2.06-.94-2.06-.94L8.5 2.5l-.94 2.06-2.06.94zm10 10l.94 2.06.94-2.06 2.06-.94-2.06-.94-.94-2.06-.94 2.06-2.06.94z\"/><path d=\"M17.41 7.96l-1.37-1.37c-.4-.4-.92-.59-1.43-.59-.52 0-1.04.2-1.43.59L10.3 9.45l-7.72 7.72c-.78.78-.78 2.05 0 2.83L4 21.41c.39.39.9.59 1.41.59.51 0 1.02-.2 1.41-.59l7.78-7.78 2.81-2.81c.8-.78.8-2.07 0-2.86zM5.41 20L4 18.59l7.72-7.72 1.47 1.35L5.41 20z\"/>\n",
              "  </svg>\n",
              "      </button>\n",
              "      \n",
              "  <style>\n",
              "    .colab-df-container {\n",
              "      display:flex;\n",
              "      flex-wrap:wrap;\n",
              "      gap: 12px;\n",
              "    }\n",
              "\n",
              "    .colab-df-convert {\n",
              "      background-color: #E8F0FE;\n",
              "      border: none;\n",
              "      border-radius: 50%;\n",
              "      cursor: pointer;\n",
              "      display: none;\n",
              "      fill: #1967D2;\n",
              "      height: 32px;\n",
              "      padding: 0 0 0 0;\n",
              "      width: 32px;\n",
              "    }\n",
              "\n",
              "    .colab-df-convert:hover {\n",
              "      background-color: #E2EBFA;\n",
              "      box-shadow: 0px 1px 2px rgba(60, 64, 67, 0.3), 0px 1px 3px 1px rgba(60, 64, 67, 0.15);\n",
              "      fill: #174EA6;\n",
              "    }\n",
              "\n",
              "    [theme=dark] .colab-df-convert {\n",
              "      background-color: #3B4455;\n",
              "      fill: #D2E3FC;\n",
              "    }\n",
              "\n",
              "    [theme=dark] .colab-df-convert:hover {\n",
              "      background-color: #434B5C;\n",
              "      box-shadow: 0px 1px 3px 1px rgba(0, 0, 0, 0.15);\n",
              "      filter: drop-shadow(0px 1px 2px rgba(0, 0, 0, 0.3));\n",
              "      fill: #FFFFFF;\n",
              "    }\n",
              "  </style>\n",
              "\n",
              "      <script>\n",
              "        const buttonEl =\n",
              "          document.querySelector('#df-b55e7c4c-e4e1-4156-996f-92224129e781 button.colab-df-convert');\n",
              "        buttonEl.style.display =\n",
              "          google.colab.kernel.accessAllowed ? 'block' : 'none';\n",
              "\n",
              "        async function convertToInteractive(key) {\n",
              "          const element = document.querySelector('#df-b55e7c4c-e4e1-4156-996f-92224129e781');\n",
              "          const dataTable =\n",
              "            await google.colab.kernel.invokeFunction('convertToInteractive',\n",
              "                                                     [key], {});\n",
              "          if (!dataTable) return;\n",
              "\n",
              "          const docLinkHtml = 'Like what you see? Visit the ' +\n",
              "            '<a target=\"_blank\" href=https://colab.research.google.com/notebooks/data_table.ipynb>data table notebook</a>'\n",
              "            + ' to learn more about interactive tables.';\n",
              "          element.innerHTML = '';\n",
              "          dataTable['output_type'] = 'display_data';\n",
              "          await google.colab.output.renderOutput(dataTable, element);\n",
              "          const docLink = document.createElement('div');\n",
              "          docLink.innerHTML = docLinkHtml;\n",
              "          element.appendChild(docLink);\n",
              "        }\n",
              "      </script>\n",
              "    </div>\n",
              "  </div>\n",
              "  "
            ]
          },
          "metadata": {},
          "execution_count": 5
        }
      ]
    },
    {
      "cell_type": "markdown",
      "source": [
        "####Observations:\n",
        "\n",
        "- There are 99,003 number of entries in this data. \n",
        "\n",
        "- **gender** columns in missing, because it is a non-number type. It can't have mean, median,etc.\n",
        "- **dob_year** has a minimum value **1900**. That means, his age should be *above 100 years* of age at the time of data recorded.\n"
      ],
      "metadata": {
        "id": "rb1CI9bFiuAU"
      }
    },
    {
      "cell_type": "markdown",
      "metadata": {
        "id": "lM-hljKpqXsp"
      },
      "source": [
        "### **Data Information**\n",
        "*  Here we will see the information about the types of features."
      ]
    },
    {
      "cell_type": "code",
      "metadata": {
        "id": "aPYZy6voqXc4",
        "colab": {
          "base_uri": "https://localhost:8080/"
        },
        "outputId": "93da2a31-6af4-4bbc-8844-4547f208e858"
      },
      "source": [
        "data.info()"
      ],
      "execution_count": null,
      "outputs": [
        {
          "output_type": "stream",
          "name": "stdout",
          "text": [
            "<class 'pandas.core.frame.DataFrame'>\n",
            "RangeIndex: 99003 entries, 0 to 99002\n",
            "Data columns (total 15 columns):\n",
            " #   Column                 Non-Null Count  Dtype  \n",
            "---  ------                 --------------  -----  \n",
            " 0   userid                 99003 non-null  int64  \n",
            " 1   age                    99003 non-null  int64  \n",
            " 2   dob_day                99003 non-null  int64  \n",
            " 3   dob_year               99003 non-null  int64  \n",
            " 4   dob_month              99003 non-null  int64  \n",
            " 5   gender                 98828 non-null  object \n",
            " 6   tenure                 99001 non-null  float64\n",
            " 7   friend_count           99003 non-null  int64  \n",
            " 8   friendships_initiated  99003 non-null  int64  \n",
            " 9   likes                  99003 non-null  int64  \n",
            " 10  likes_received         99003 non-null  int64  \n",
            " 11  mobile_likes           99003 non-null  int64  \n",
            " 12  mobile_likes_received  99003 non-null  int64  \n",
            " 13  www_likes              99003 non-null  int64  \n",
            " 14  www_likes_received     99003 non-null  int64  \n",
            "dtypes: float64(1), int64(13), object(1)\n",
            "memory usage: 11.3+ MB\n"
          ]
        }
      ]
    },
    {
      "cell_type": "markdown",
      "source": [
        "####Observations:\n",
        "* Total number of columns is **14**.\n",
        "\n",
        "* Data types of the columns look normal. Beside **gender** and **tenure** rest are *int64*.\n",
        "* **gender** have a data type object. Possible values are *Male* and *Female*\n",
        "* There is no null columns, however, there may be some entries missing which should be take care of. \n"
      ],
      "metadata": {
        "id": "0UJOpoQujV8W"
      }
    },
    {
      "cell_type": "markdown",
      "metadata": {
        "id": "efZ8svauqc55"
      },
      "source": [
        "---\n",
        "<a name = Section5></a>\n",
        "# **5. Data Pre-Profiling**\n",
        "---\n",
        "\n",
        "- Here, we will examine the data to determine whether it has any missing values or duplicate entries.\n",
        "\n",
        "- If there are any, they will be highlighted for further processing."
      ]
    },
    {
      "cell_type": "code",
      "metadata": {
        "id": "VEHxAq8Zqcgo",
        "colab": {
          "base_uri": "https://localhost:8080/"
        },
        "outputId": "48276780-c241-40ea-b8e9-f405b1cf3cf8"
      },
      "source": [
        "data.isnull().sum()"
      ],
      "execution_count": null,
      "outputs": [
        {
          "output_type": "execute_result",
          "data": {
            "text/plain": [
              "userid                     0\n",
              "age                        0\n",
              "dob_day                    0\n",
              "dob_year                   0\n",
              "dob_month                  0\n",
              "gender                   175\n",
              "tenure                     2\n",
              "friend_count               0\n",
              "friendships_initiated      0\n",
              "likes                      0\n",
              "likes_received             0\n",
              "mobile_likes               0\n",
              "mobile_likes_received      0\n",
              "www_likes                  0\n",
              "www_likes_received         0\n",
              "dtype: int64"
            ]
          },
          "metadata": {},
          "execution_count": 7
        }
      ]
    },
    {
      "cell_type": "code",
      "source": [
        "##Better, Total number null values in gender column\n",
        "print(\"Number of missing values in gender:\")\n",
        "pd.isnull(data['gender']).sum()"
      ],
      "metadata": {
        "colab": {
          "base_uri": "https://localhost:8080/"
        },
        "id": "C9kHKjQZnVXI",
        "outputId": "d0b5064e-b578-463a-fcb1-3d77ee3361f1"
      },
      "execution_count": null,
      "outputs": [
        {
          "output_type": "stream",
          "name": "stdout",
          "text": [
            "Number of missing values in gender:\n"
          ]
        },
        {
          "output_type": "execute_result",
          "data": {
            "text/plain": [
              "175"
            ]
          },
          "metadata": {},
          "execution_count": 8
        }
      ]
    },
    {
      "cell_type": "code",
      "source": [
        "# And\n",
        "print('Number of missing values in tenure:')\n",
        "pd.isnull(data['tenure']).sum()"
      ],
      "metadata": {
        "colab": {
          "base_uri": "https://localhost:8080/"
        },
        "id": "7rH0Xj9UoHh1",
        "outputId": "8e946f07-0752-43ff-cb99-63ce742a2db0"
      },
      "execution_count": null,
      "outputs": [
        {
          "output_type": "stream",
          "name": "stdout",
          "text": [
            "Number of missing values in tenure:\n"
          ]
        },
        {
          "output_type": "execute_result",
          "data": {
            "text/plain": [
              "2"
            ]
          },
          "metadata": {},
          "execution_count": 9
        }
      ]
    },
    {
      "cell_type": "code",
      "source": [
        "# Duplicate entries test\n",
        "print(data.duplicated().value_counts())"
      ],
      "metadata": {
        "colab": {
          "base_uri": "https://localhost:8080/"
        },
        "id": "Yk8n2WxITjqA",
        "outputId": "012a083c-ca51-4b0b-d1e4-d7336e48ed5b"
      },
      "execution_count": null,
      "outputs": [
        {
          "output_type": "stream",
          "name": "stdout",
          "text": [
            "False    99003\n",
            "dtype: int64\n"
          ]
        }
      ]
    },
    {
      "cell_type": "markdown",
      "source": [
        "#### Observations:\n",
        "* **gender** and **tenure** have missing rows/entries\n",
        "\n",
        "* In **gender** column entries are missing around **175 rows**.\n",
        "* In tenure column, around **2 entries** are missing.\n",
        "* There are no duplicate entry in the sheet."
      ],
      "metadata": {
        "id": "q0LK8vP0rliL"
      }
    },
    {
      "cell_type": "markdown",
      "metadata": {
        "id": "YMvtK0X-qoe6"
      },
      "source": [
        "---\n",
        "<a name = Section6></a>\n",
        "# **6. Data Pre-Processing**\n",
        "---\n",
        "\n",
        "- This section is emphasised on performing data manipulation over unstructured data for further processing and analysis.\n",
        "\n",
        "- To modify unstructured data to strucuted data you need to verify and manipulate the integrity of the data by:\n",
        "  - Handling missing data,\n",
        "\n",
        "  - Handling redundant data,\n",
        "\n",
        "  - Handling inconsistent data,\n",
        "\n",
        "  - Handling outliers,\n",
        "\n",
        "  - Handling typos"
      ]
    },
    {
      "cell_type": "markdown",
      "source": [
        "# Handling missing values\n",
        "1. **gender** columns"
      ],
      "metadata": {
        "id": "iZJ1fvuwvUwn"
      }
    },
    {
      "cell_type": "code",
      "metadata": {
        "id": "FxzbSzWDqytZ",
        "colab": {
          "base_uri": "https://localhost:8080/"
        },
        "outputId": "63ed4a9b-cdf8-4796-fbbe-90a5d30d1c1c"
      },
      "source": [
        "# total count of gender variable\n",
        "print('Number of :')\n",
        "data['gender'].value_counts()"
      ],
      "execution_count": null,
      "outputs": [
        {
          "output_type": "stream",
          "name": "stdout",
          "text": [
            "Number of :\n"
          ]
        },
        {
          "output_type": "execute_result",
          "data": {
            "text/plain": [
              "male      58574\n",
              "female    40254\n",
              "Name: gender, dtype: int64"
            ]
          },
          "metadata": {},
          "execution_count": 11
        }
      ]
    },
    {
      "cell_type": "markdown",
      "source": [
        "* Replacing the null values of gender column with mode of it."
      ],
      "metadata": {
        "id": "eYZ13Te4tWii"
      }
    },
    {
      "cell_type": "code",
      "source": [
        "data['gender']=data['gender'].fillna(data['gender'].mode()[0])"
      ],
      "metadata": {
        "id": "ajDGlUTAsy6I"
      },
      "execution_count": null,
      "outputs": []
    },
    {
      "cell_type": "code",
      "source": [
        "print('Number of :')\n",
        "data['gender'].value_counts()"
      ],
      "metadata": {
        "colab": {
          "base_uri": "https://localhost:8080/"
        },
        "id": "OOWcp3ApuJk2",
        "outputId": "4fe95f91-ba3c-42d5-8c8c-e1bfb3a34a92"
      },
      "execution_count": null,
      "outputs": [
        {
          "output_type": "stream",
          "name": "stdout",
          "text": [
            "Number of :\n"
          ]
        },
        {
          "output_type": "execute_result",
          "data": {
            "text/plain": [
              "male      58749\n",
              "female    40254\n",
              "Name: gender, dtype: int64"
            ]
          },
          "metadata": {},
          "execution_count": 13
        }
      ]
    },
    {
      "cell_type": "markdown",
      "source": [
        "2. **tenure** columns "
      ],
      "metadata": {
        "id": "UpIX2lp4vwP0"
      }
    },
    {
      "cell_type": "code",
      "source": [
        "print('Number of entries missing in tenure')\n",
        "pd.isnull(data['tenure']).sum()"
      ],
      "metadata": {
        "colab": {
          "base_uri": "https://localhost:8080/"
        },
        "id": "t0iwIXWDv2bG",
        "outputId": "91dc57ea-97e5-4e5c-c9a7-81b34f3bd1f4"
      },
      "execution_count": null,
      "outputs": [
        {
          "output_type": "stream",
          "name": "stdout",
          "text": [
            "Number of entries missing in tenure\n"
          ]
        },
        {
          "output_type": "execute_result",
          "data": {
            "text/plain": [
              "2"
            ]
          },
          "metadata": {},
          "execution_count": 14
        }
      ]
    },
    {
      "cell_type": "markdown",
      "source": [
        "* Tenure is the number of days since the user has been on Facebook, so median is a better choice."
      ],
      "metadata": {
        "id": "RsUxyEzHwSJ-"
      }
    },
    {
      "cell_type": "code",
      "source": [
        "median_val = data['tenure'].median()\n",
        "print('Median = ',median_val)"
      ],
      "metadata": {
        "colab": {
          "base_uri": "https://localhost:8080/"
        },
        "id": "f7NPeg3Aw0u3",
        "outputId": "7be7f516-248d-4791-e084-4979ba81739b"
      },
      "execution_count": null,
      "outputs": [
        {
          "output_type": "stream",
          "name": "stdout",
          "text": [
            "Median =  412.0\n"
          ]
        }
      ]
    },
    {
      "cell_type": "markdown",
      "source": [
        "i) Number of *missing values* in tenure columns = **2** <br>\n",
        "ii) *Median* Value of tenure columns = **412.00**\n",
        "\n",
        "\n",
        "Replacing the null values with its median... \n"
      ],
      "metadata": {
        "id": "weXpcar3xbxk"
      }
    },
    {
      "cell_type": "code",
      "source": [
        "data['tenure'].fillna(value=median_val,inplace=True)"
      ],
      "metadata": {
        "id": "1Yd9zQeEyTIZ"
      },
      "execution_count": null,
      "outputs": []
    },
    {
      "cell_type": "code",
      "source": [
        "pd.isnull(data['tenure']).sum()"
      ],
      "metadata": {
        "colab": {
          "base_uri": "https://localhost:8080/"
        },
        "id": "JbcbiUXpzLAz",
        "outputId": "f3a7314f-d106-457e-c310-f1abc821e052"
      },
      "execution_count": null,
      "outputs": [
        {
          "output_type": "execute_result",
          "data": {
            "text/plain": [
              "0"
            ]
          },
          "metadata": {},
          "execution_count": 17
        }
      ]
    },
    {
      "cell_type": "markdown",
      "source": [
        "### Duplicate Entries"
      ],
      "metadata": {
        "id": "NoRMIe_NTJH1"
      }
    },
    {
      "cell_type": "code",
      "source": [
        "data.duplicated().value_counts()"
      ],
      "metadata": {
        "colab": {
          "base_uri": "https://localhost:8080/"
        },
        "id": "kBsh7u-6S9GZ",
        "outputId": "33962667-8c20-47f1-9e81-2c71daf2179b"
      },
      "execution_count": null,
      "outputs": [
        {
          "output_type": "execute_result",
          "data": {
            "text/plain": [
              "False    99003\n",
              "dtype: int64"
            ]
          },
          "metadata": {},
          "execution_count": 18
        }
      ]
    },
    {
      "cell_type": "markdown",
      "source": [
        "- There are no duplicate entries."
      ],
      "metadata": {
        "id": "r94rGOiuTRDs"
      }
    },
    {
      "cell_type": "markdown",
      "metadata": {
        "id": "amsQwri2q1_J"
      },
      "source": [
        "---\n",
        "<a name = Section7></a>\n",
        "# **7. Data Post-Profiling**\n",
        "---\n",
        "\n",
        "- This section is emphasised on getting a report about the data after the data manipulation.\n",
        "\n",
        "- Checking whether missing are handled."
      ]
    },
    {
      "cell_type": "code",
      "metadata": {
        "id": "87U7K8sWq1y5",
        "colab": {
          "base_uri": "https://localhost:8080/"
        },
        "outputId": "18cf008e-35d6-4d10-ad0e-29977336c59e"
      },
      "source": [
        "data.isnull().sum()"
      ],
      "execution_count": null,
      "outputs": [
        {
          "output_type": "execute_result",
          "data": {
            "text/plain": [
              "userid                   0\n",
              "age                      0\n",
              "dob_day                  0\n",
              "dob_year                 0\n",
              "dob_month                0\n",
              "gender                   0\n",
              "tenure                   0\n",
              "friend_count             0\n",
              "friendships_initiated    0\n",
              "likes                    0\n",
              "likes_received           0\n",
              "mobile_likes             0\n",
              "mobile_likes_received    0\n",
              "www_likes                0\n",
              "www_likes_received       0\n",
              "dtype: int64"
            ]
          },
          "metadata": {},
          "execution_count": 19
        }
      ]
    },
    {
      "cell_type": "markdown",
      "source": [
        "Clearly, there are no missing values. Data looks fine to proceed to next step."
      ],
      "metadata": {
        "id": "k5GrTtErz-Dn"
      }
    },
    {
      "cell_type": "markdown",
      "metadata": {
        "id": "taDvvLa9q-5p"
      },
      "source": [
        "---\n",
        "<a name = Section8></a>\n",
        "# **8. Exploratory Data Analysis**\n",
        "---\n",
        "\n",
        "- This section is emphasised on asking the right questions and perform analysis using the data.\n",
        "\n"
      ]
    },
    {
      "cell_type": "markdown",
      "source": [
        "###Correlation Matrix between the different variables."
      ],
      "metadata": {
        "id": "B7wo6O2-2we5"
      }
    },
    {
      "cell_type": "code",
      "metadata": {
        "id": "fwWa_FPerGCB",
        "colab": {
          "base_uri": "https://localhost:8080/",
          "height": 552
        },
        "outputId": "b6407441-2758-42ed-cfdc-8d43a1605a61"
      },
      "source": [
        "data.corr()"
      ],
      "execution_count": null,
      "outputs": [
        {
          "output_type": "execute_result",
          "data": {
            "text/plain": [
              "                         userid       age   dob_day  dob_year  dob_month  \\\n",
              "userid                 1.000000 -0.007265 -0.000839  0.007265   0.002924   \n",
              "age                   -0.007265  1.000000  0.035035 -1.000000   0.025167   \n",
              "dob_day               -0.000839  0.035035  1.000000 -0.035035   0.129443   \n",
              "dob_year               0.007265 -1.000000 -0.035035  1.000000  -0.025167   \n",
              "dob_month              0.002924  0.025167  0.129443 -0.025167   1.000000   \n",
              "tenure                -0.003449  0.462696  0.041859 -0.462696   0.029445   \n",
              "friend_count          -0.001314 -0.027407  0.021961  0.027407   0.019804   \n",
              "friendships_initiated -0.001591 -0.058059  0.022999  0.058059   0.020075   \n",
              "likes                 -0.002875 -0.013009  0.015980  0.013009   0.014147   \n",
              "likes_received         0.001526 -0.022570  0.001367  0.022570   0.006495   \n",
              "mobile_likes          -0.004868 -0.026715  0.014541  0.026715   0.010400   \n",
              "mobile_likes_received  0.001753 -0.024248  0.000497  0.024248   0.006435   \n",
              "www_likes              0.001828  0.015585  0.009353 -0.015585   0.012136   \n",
              "www_likes_received     0.001074 -0.018224  0.002460  0.018224   0.006003   \n",
              "\n",
              "                         tenure  friend_count  friendships_initiated  \\\n",
              "userid                -0.003449     -0.001314              -0.001591   \n",
              "age                    0.462696     -0.027407              -0.058059   \n",
              "dob_day                0.041859      0.021961               0.022999   \n",
              "dob_year              -0.462696      0.027407               0.058059   \n",
              "dob_month              0.029445      0.019804               0.020075   \n",
              "tenure                 1.000000      0.166257               0.133507   \n",
              "friend_count           0.166257      1.000000               0.825850   \n",
              "friendships_initiated  0.133507      0.825850               1.000000   \n",
              "likes                  0.057133      0.298017               0.285592   \n",
              "likes_received         0.027745      0.236463               0.175131   \n",
              "mobile_likes           0.028053      0.235656               0.229808   \n",
              "mobile_likes_received  0.023971      0.232701               0.173804   \n",
              "www_likes              0.070757      0.229803               0.214022   \n",
              "www_likes_received     0.030553      0.220727               0.161439   \n",
              "\n",
              "                          likes  likes_received  mobile_likes  \\\n",
              "userid                -0.002875        0.001526     -0.004868   \n",
              "age                   -0.013009       -0.022570     -0.026715   \n",
              "dob_day                0.015980        0.001367      0.014541   \n",
              "dob_year               0.013009        0.022570      0.026715   \n",
              "dob_month              0.014147        0.006495      0.010400   \n",
              "tenure                 0.057133        0.027745      0.028053   \n",
              "friend_count           0.298017        0.236463      0.235656   \n",
              "friendships_initiated  0.285592        0.175131      0.229808   \n",
              "likes                  1.000000        0.327376      0.871652   \n",
              "likes_received         0.327376        1.000000      0.256998   \n",
              "mobile_likes           0.871652        0.256998      1.000000   \n",
              "mobile_likes_received  0.329258        0.973679      0.288513   \n",
              "www_likes              0.644960        0.255365      0.187619   \n",
              "www_likes_received     0.295687        0.947990      0.190173   \n",
              "\n",
              "                       mobile_likes_received  www_likes  www_likes_received  \n",
              "userid                              0.001753   0.001828            0.001074  \n",
              "age                                -0.024248   0.015585           -0.018224  \n",
              "dob_day                             0.000497   0.009353            0.002460  \n",
              "dob_year                            0.024248  -0.015585            0.018224  \n",
              "dob_month                           0.006435   0.012136            0.006003  \n",
              "tenure                              0.023971   0.070757            0.030553  \n",
              "friend_count                        0.232701   0.229803            0.220727  \n",
              "friendships_initiated               0.173804   0.214022            0.161439  \n",
              "likes                               0.329258   0.644960            0.295687  \n",
              "likes_received                      0.973679   0.255365            0.947990  \n",
              "mobile_likes                        0.288513   0.187619            0.190173  \n",
              "mobile_likes_received               1.000000   0.209997            0.850490  \n",
              "www_likes                           0.209997   1.000000            0.296053  \n",
              "www_likes_received                  0.850490   0.296053            1.000000  "
            ],
            "text/html": [
              "\n",
              "  <div id=\"df-32dc6e0c-6d7a-4f8d-95d5-59fa313842fb\">\n",
              "    <div class=\"colab-df-container\">\n",
              "      <div>\n",
              "<style scoped>\n",
              "    .dataframe tbody tr th:only-of-type {\n",
              "        vertical-align: middle;\n",
              "    }\n",
              "\n",
              "    .dataframe tbody tr th {\n",
              "        vertical-align: top;\n",
              "    }\n",
              "\n",
              "    .dataframe thead th {\n",
              "        text-align: right;\n",
              "    }\n",
              "</style>\n",
              "<table border=\"1\" class=\"dataframe\">\n",
              "  <thead>\n",
              "    <tr style=\"text-align: right;\">\n",
              "      <th></th>\n",
              "      <th>userid</th>\n",
              "      <th>age</th>\n",
              "      <th>dob_day</th>\n",
              "      <th>dob_year</th>\n",
              "      <th>dob_month</th>\n",
              "      <th>tenure</th>\n",
              "      <th>friend_count</th>\n",
              "      <th>friendships_initiated</th>\n",
              "      <th>likes</th>\n",
              "      <th>likes_received</th>\n",
              "      <th>mobile_likes</th>\n",
              "      <th>mobile_likes_received</th>\n",
              "      <th>www_likes</th>\n",
              "      <th>www_likes_received</th>\n",
              "    </tr>\n",
              "  </thead>\n",
              "  <tbody>\n",
              "    <tr>\n",
              "      <th>userid</th>\n",
              "      <td>1.000000</td>\n",
              "      <td>-0.007265</td>\n",
              "      <td>-0.000839</td>\n",
              "      <td>0.007265</td>\n",
              "      <td>0.002924</td>\n",
              "      <td>-0.003449</td>\n",
              "      <td>-0.001314</td>\n",
              "      <td>-0.001591</td>\n",
              "      <td>-0.002875</td>\n",
              "      <td>0.001526</td>\n",
              "      <td>-0.004868</td>\n",
              "      <td>0.001753</td>\n",
              "      <td>0.001828</td>\n",
              "      <td>0.001074</td>\n",
              "    </tr>\n",
              "    <tr>\n",
              "      <th>age</th>\n",
              "      <td>-0.007265</td>\n",
              "      <td>1.000000</td>\n",
              "      <td>0.035035</td>\n",
              "      <td>-1.000000</td>\n",
              "      <td>0.025167</td>\n",
              "      <td>0.462696</td>\n",
              "      <td>-0.027407</td>\n",
              "      <td>-0.058059</td>\n",
              "      <td>-0.013009</td>\n",
              "      <td>-0.022570</td>\n",
              "      <td>-0.026715</td>\n",
              "      <td>-0.024248</td>\n",
              "      <td>0.015585</td>\n",
              "      <td>-0.018224</td>\n",
              "    </tr>\n",
              "    <tr>\n",
              "      <th>dob_day</th>\n",
              "      <td>-0.000839</td>\n",
              "      <td>0.035035</td>\n",
              "      <td>1.000000</td>\n",
              "      <td>-0.035035</td>\n",
              "      <td>0.129443</td>\n",
              "      <td>0.041859</td>\n",
              "      <td>0.021961</td>\n",
              "      <td>0.022999</td>\n",
              "      <td>0.015980</td>\n",
              "      <td>0.001367</td>\n",
              "      <td>0.014541</td>\n",
              "      <td>0.000497</td>\n",
              "      <td>0.009353</td>\n",
              "      <td>0.002460</td>\n",
              "    </tr>\n",
              "    <tr>\n",
              "      <th>dob_year</th>\n",
              "      <td>0.007265</td>\n",
              "      <td>-1.000000</td>\n",
              "      <td>-0.035035</td>\n",
              "      <td>1.000000</td>\n",
              "      <td>-0.025167</td>\n",
              "      <td>-0.462696</td>\n",
              "      <td>0.027407</td>\n",
              "      <td>0.058059</td>\n",
              "      <td>0.013009</td>\n",
              "      <td>0.022570</td>\n",
              "      <td>0.026715</td>\n",
              "      <td>0.024248</td>\n",
              "      <td>-0.015585</td>\n",
              "      <td>0.018224</td>\n",
              "    </tr>\n",
              "    <tr>\n",
              "      <th>dob_month</th>\n",
              "      <td>0.002924</td>\n",
              "      <td>0.025167</td>\n",
              "      <td>0.129443</td>\n",
              "      <td>-0.025167</td>\n",
              "      <td>1.000000</td>\n",
              "      <td>0.029445</td>\n",
              "      <td>0.019804</td>\n",
              "      <td>0.020075</td>\n",
              "      <td>0.014147</td>\n",
              "      <td>0.006495</td>\n",
              "      <td>0.010400</td>\n",
              "      <td>0.006435</td>\n",
              "      <td>0.012136</td>\n",
              "      <td>0.006003</td>\n",
              "    </tr>\n",
              "    <tr>\n",
              "      <th>tenure</th>\n",
              "      <td>-0.003449</td>\n",
              "      <td>0.462696</td>\n",
              "      <td>0.041859</td>\n",
              "      <td>-0.462696</td>\n",
              "      <td>0.029445</td>\n",
              "      <td>1.000000</td>\n",
              "      <td>0.166257</td>\n",
              "      <td>0.133507</td>\n",
              "      <td>0.057133</td>\n",
              "      <td>0.027745</td>\n",
              "      <td>0.028053</td>\n",
              "      <td>0.023971</td>\n",
              "      <td>0.070757</td>\n",
              "      <td>0.030553</td>\n",
              "    </tr>\n",
              "    <tr>\n",
              "      <th>friend_count</th>\n",
              "      <td>-0.001314</td>\n",
              "      <td>-0.027407</td>\n",
              "      <td>0.021961</td>\n",
              "      <td>0.027407</td>\n",
              "      <td>0.019804</td>\n",
              "      <td>0.166257</td>\n",
              "      <td>1.000000</td>\n",
              "      <td>0.825850</td>\n",
              "      <td>0.298017</td>\n",
              "      <td>0.236463</td>\n",
              "      <td>0.235656</td>\n",
              "      <td>0.232701</td>\n",
              "      <td>0.229803</td>\n",
              "      <td>0.220727</td>\n",
              "    </tr>\n",
              "    <tr>\n",
              "      <th>friendships_initiated</th>\n",
              "      <td>-0.001591</td>\n",
              "      <td>-0.058059</td>\n",
              "      <td>0.022999</td>\n",
              "      <td>0.058059</td>\n",
              "      <td>0.020075</td>\n",
              "      <td>0.133507</td>\n",
              "      <td>0.825850</td>\n",
              "      <td>1.000000</td>\n",
              "      <td>0.285592</td>\n",
              "      <td>0.175131</td>\n",
              "      <td>0.229808</td>\n",
              "      <td>0.173804</td>\n",
              "      <td>0.214022</td>\n",
              "      <td>0.161439</td>\n",
              "    </tr>\n",
              "    <tr>\n",
              "      <th>likes</th>\n",
              "      <td>-0.002875</td>\n",
              "      <td>-0.013009</td>\n",
              "      <td>0.015980</td>\n",
              "      <td>0.013009</td>\n",
              "      <td>0.014147</td>\n",
              "      <td>0.057133</td>\n",
              "      <td>0.298017</td>\n",
              "      <td>0.285592</td>\n",
              "      <td>1.000000</td>\n",
              "      <td>0.327376</td>\n",
              "      <td>0.871652</td>\n",
              "      <td>0.329258</td>\n",
              "      <td>0.644960</td>\n",
              "      <td>0.295687</td>\n",
              "    </tr>\n",
              "    <tr>\n",
              "      <th>likes_received</th>\n",
              "      <td>0.001526</td>\n",
              "      <td>-0.022570</td>\n",
              "      <td>0.001367</td>\n",
              "      <td>0.022570</td>\n",
              "      <td>0.006495</td>\n",
              "      <td>0.027745</td>\n",
              "      <td>0.236463</td>\n",
              "      <td>0.175131</td>\n",
              "      <td>0.327376</td>\n",
              "      <td>1.000000</td>\n",
              "      <td>0.256998</td>\n",
              "      <td>0.973679</td>\n",
              "      <td>0.255365</td>\n",
              "      <td>0.947990</td>\n",
              "    </tr>\n",
              "    <tr>\n",
              "      <th>mobile_likes</th>\n",
              "      <td>-0.004868</td>\n",
              "      <td>-0.026715</td>\n",
              "      <td>0.014541</td>\n",
              "      <td>0.026715</td>\n",
              "      <td>0.010400</td>\n",
              "      <td>0.028053</td>\n",
              "      <td>0.235656</td>\n",
              "      <td>0.229808</td>\n",
              "      <td>0.871652</td>\n",
              "      <td>0.256998</td>\n",
              "      <td>1.000000</td>\n",
              "      <td>0.288513</td>\n",
              "      <td>0.187619</td>\n",
              "      <td>0.190173</td>\n",
              "    </tr>\n",
              "    <tr>\n",
              "      <th>mobile_likes_received</th>\n",
              "      <td>0.001753</td>\n",
              "      <td>-0.024248</td>\n",
              "      <td>0.000497</td>\n",
              "      <td>0.024248</td>\n",
              "      <td>0.006435</td>\n",
              "      <td>0.023971</td>\n",
              "      <td>0.232701</td>\n",
              "      <td>0.173804</td>\n",
              "      <td>0.329258</td>\n",
              "      <td>0.973679</td>\n",
              "      <td>0.288513</td>\n",
              "      <td>1.000000</td>\n",
              "      <td>0.209997</td>\n",
              "      <td>0.850490</td>\n",
              "    </tr>\n",
              "    <tr>\n",
              "      <th>www_likes</th>\n",
              "      <td>0.001828</td>\n",
              "      <td>0.015585</td>\n",
              "      <td>0.009353</td>\n",
              "      <td>-0.015585</td>\n",
              "      <td>0.012136</td>\n",
              "      <td>0.070757</td>\n",
              "      <td>0.229803</td>\n",
              "      <td>0.214022</td>\n",
              "      <td>0.644960</td>\n",
              "      <td>0.255365</td>\n",
              "      <td>0.187619</td>\n",
              "      <td>0.209997</td>\n",
              "      <td>1.000000</td>\n",
              "      <td>0.296053</td>\n",
              "    </tr>\n",
              "    <tr>\n",
              "      <th>www_likes_received</th>\n",
              "      <td>0.001074</td>\n",
              "      <td>-0.018224</td>\n",
              "      <td>0.002460</td>\n",
              "      <td>0.018224</td>\n",
              "      <td>0.006003</td>\n",
              "      <td>0.030553</td>\n",
              "      <td>0.220727</td>\n",
              "      <td>0.161439</td>\n",
              "      <td>0.295687</td>\n",
              "      <td>0.947990</td>\n",
              "      <td>0.190173</td>\n",
              "      <td>0.850490</td>\n",
              "      <td>0.296053</td>\n",
              "      <td>1.000000</td>\n",
              "    </tr>\n",
              "  </tbody>\n",
              "</table>\n",
              "</div>\n",
              "      <button class=\"colab-df-convert\" onclick=\"convertToInteractive('df-32dc6e0c-6d7a-4f8d-95d5-59fa313842fb')\"\n",
              "              title=\"Convert this dataframe to an interactive table.\"\n",
              "              style=\"display:none;\">\n",
              "        \n",
              "  <svg xmlns=\"http://www.w3.org/2000/svg\" height=\"24px\"viewBox=\"0 0 24 24\"\n",
              "       width=\"24px\">\n",
              "    <path d=\"M0 0h24v24H0V0z\" fill=\"none\"/>\n",
              "    <path d=\"M18.56 5.44l.94 2.06.94-2.06 2.06-.94-2.06-.94-.94-2.06-.94 2.06-2.06.94zm-11 1L8.5 8.5l.94-2.06 2.06-.94-2.06-.94L8.5 2.5l-.94 2.06-2.06.94zm10 10l.94 2.06.94-2.06 2.06-.94-2.06-.94-.94-2.06-.94 2.06-2.06.94z\"/><path d=\"M17.41 7.96l-1.37-1.37c-.4-.4-.92-.59-1.43-.59-.52 0-1.04.2-1.43.59L10.3 9.45l-7.72 7.72c-.78.78-.78 2.05 0 2.83L4 21.41c.39.39.9.59 1.41.59.51 0 1.02-.2 1.41-.59l7.78-7.78 2.81-2.81c.8-.78.8-2.07 0-2.86zM5.41 20L4 18.59l7.72-7.72 1.47 1.35L5.41 20z\"/>\n",
              "  </svg>\n",
              "      </button>\n",
              "      \n",
              "  <style>\n",
              "    .colab-df-container {\n",
              "      display:flex;\n",
              "      flex-wrap:wrap;\n",
              "      gap: 12px;\n",
              "    }\n",
              "\n",
              "    .colab-df-convert {\n",
              "      background-color: #E8F0FE;\n",
              "      border: none;\n",
              "      border-radius: 50%;\n",
              "      cursor: pointer;\n",
              "      display: none;\n",
              "      fill: #1967D2;\n",
              "      height: 32px;\n",
              "      padding: 0 0 0 0;\n",
              "      width: 32px;\n",
              "    }\n",
              "\n",
              "    .colab-df-convert:hover {\n",
              "      background-color: #E2EBFA;\n",
              "      box-shadow: 0px 1px 2px rgba(60, 64, 67, 0.3), 0px 1px 3px 1px rgba(60, 64, 67, 0.15);\n",
              "      fill: #174EA6;\n",
              "    }\n",
              "\n",
              "    [theme=dark] .colab-df-convert {\n",
              "      background-color: #3B4455;\n",
              "      fill: #D2E3FC;\n",
              "    }\n",
              "\n",
              "    [theme=dark] .colab-df-convert:hover {\n",
              "      background-color: #434B5C;\n",
              "      box-shadow: 0px 1px 3px 1px rgba(0, 0, 0, 0.15);\n",
              "      filter: drop-shadow(0px 1px 2px rgba(0, 0, 0, 0.3));\n",
              "      fill: #FFFFFF;\n",
              "    }\n",
              "  </style>\n",
              "\n",
              "      <script>\n",
              "        const buttonEl =\n",
              "          document.querySelector('#df-32dc6e0c-6d7a-4f8d-95d5-59fa313842fb button.colab-df-convert');\n",
              "        buttonEl.style.display =\n",
              "          google.colab.kernel.accessAllowed ? 'block' : 'none';\n",
              "\n",
              "        async function convertToInteractive(key) {\n",
              "          const element = document.querySelector('#df-32dc6e0c-6d7a-4f8d-95d5-59fa313842fb');\n",
              "          const dataTable =\n",
              "            await google.colab.kernel.invokeFunction('convertToInteractive',\n",
              "                                                     [key], {});\n",
              "          if (!dataTable) return;\n",
              "\n",
              "          const docLinkHtml = 'Like what you see? Visit the ' +\n",
              "            '<a target=\"_blank\" href=https://colab.research.google.com/notebooks/data_table.ipynb>data table notebook</a>'\n",
              "            + ' to learn more about interactive tables.';\n",
              "          element.innerHTML = '';\n",
              "          dataTable['output_type'] = 'display_data';\n",
              "          await google.colab.output.renderOutput(dataTable, element);\n",
              "          const docLink = document.createElement('div');\n",
              "          docLink.innerHTML = docLinkHtml;\n",
              "          element.appendChild(docLink);\n",
              "        }\n",
              "      </script>\n",
              "    </div>\n",
              "  </div>\n",
              "  "
            ]
          },
          "metadata": {},
          "execution_count": 20
        }
      ]
    },
    {
      "cell_type": "markdown",
      "source": [
        "Plotting Heat Map for Correlation Matrix"
      ],
      "metadata": {
        "id": "b22obNOQ3N8g"
      }
    },
    {
      "cell_type": "code",
      "source": [
        "plt.figure(figsize=(12,12))\n",
        "sns.heatmap(data.corr(),annot=True)"
      ],
      "metadata": {
        "colab": {
          "base_uri": "https://localhost:8080/",
          "height": 820
        },
        "id": "r4XOlrCA3Ztl",
        "outputId": "5d0456a6-9ba8-43f3-f04f-6e0b1c110ddf"
      },
      "execution_count": null,
      "outputs": [
        {
          "output_type": "execute_result",
          "data": {
            "text/plain": [
              "<matplotlib.axes._subplots.AxesSubplot at 0x7fda92f336d0>"
            ]
          },
          "metadata": {},
          "execution_count": 21
        },
        {
          "output_type": "display_data",
          "data": {
            "text/plain": [
              "<Figure size 864x864 with 2 Axes>"
            ],
            "image/png": "[encoded data removed]"
          },
          "metadata": {
            "needs_background": "light"
          }
        }
      ]
    },
    {
      "cell_type": "markdown",
      "source": [
        "####Observations:\n",
        "- Apart for **friend_count** and **friendships_initiated**, there are no strong relationships among the columns.\n",
        "-  Observable correlations exist.\n",
        " - **likes** and **likes_received**\n",
        " - **mobile_likes** and **www_likes**\n",
        " - **mobile_likes_recieved** and **www_likes_recieved**\n",
        "- It is not unexpected because the factors are identical."
      ],
      "metadata": {
        "id": "p_Y3xp38UcN6"
      }
    },
    {
      "cell_type": "markdown",
      "source": [
        "##Plotting for gender columns"
      ],
      "metadata": {
        "id": "9Z2SUjy64lWi"
      }
    },
    {
      "cell_type": "code",
      "source": [
        "status = sns.countplot(data['gender'])"
      ],
      "metadata": {
        "colab": {
          "base_uri": "https://localhost:8080/",
          "height": 351
        },
        "id": "jGQ7SEPB4pxc",
        "outputId": "672da2cf-b47d-4ed3-8814-c2c9080a41c2"
      },
      "execution_count": null,
      "outputs": [
        {
          "output_type": "stream",
          "name": "stderr",
          "text": [
            "/usr/local/lib/python3.8/dist-packages/seaborn/_decorators.py:36: FutureWarning: Pass the following variable as a keyword arg: x. From version 0.12, the only valid positional argument will be `data`, and passing other arguments without an explicit keyword will result in an error or misinterpretation.\n",
            "  warnings.warn(\n"
          ]
        },
        {
          "output_type": "execute_result",
          "data": {
            "text/plain": [
              "<matplotlib.axes._subplots.AxesSubplot at 0x7fda8b6bba30>"
            ]
          },
          "metadata": {},
          "execution_count": 48
        },
        {
          "output_type": "display_data",
          "data": {
            "text/plain": [
              "<Figure size 432x288 with 1 Axes>"
            ],
            "image/png": "[encoded data removed]"
          },
          "metadata": {
            "needs_background": "light"
          }
        }
      ]
    },
    {
      "cell_type": "code",
      "source": [
        "data['gender'].value_counts()"
      ],
      "metadata": {
        "id": "H47FrxVYEysz",
        "outputId": "8bb5adf3-48f0-4ac7-b467-2d13f59c0543",
        "colab": {
          "base_uri": "https://localhost:8080/"
        }
      },
      "execution_count": null,
      "outputs": [
        {
          "output_type": "execute_result",
          "data": {
            "text/plain": [
              "male      58749\n",
              "female    40254\n",
              "Name: gender, dtype: int64"
            ]
          },
          "metadata": {},
          "execution_count": 49
        }
      ]
    },
    {
      "cell_type": "markdown",
      "source": [
        "####Observation:\n",
        "- When compared to female users, the number of male users is quite significant. \n"
      ],
      "metadata": {
        "id": "PgB66UaRWhxr"
      }
    },
    {
      "cell_type": "markdown",
      "source": [
        "###Category of gender has more friends"
      ],
      "metadata": {
        "id": "_V7fA5o15KAp"
      }
    },
    {
      "cell_type": "code",
      "source": [
        "friendcount = data.groupby('gender').agg({'friend_count':['sum']})\n",
        "print(friendcount)"
      ],
      "metadata": {
        "colab": {
          "base_uri": "https://localhost:8080/"
        },
        "id": "S3XJiROh5VFd",
        "outputId": "fe9c09c9-9165-48ab-de07-9f16b8f6fc9e"
      },
      "execution_count": null,
      "outputs": [
        {
          "output_type": "stream",
          "name": "stdout",
          "text": [
            "       friend_count\n",
            "                sum\n",
            "gender             \n",
            "female      9740258\n",
            "male        9699059\n"
          ]
        }
      ]
    },
    {
      "cell_type": "code",
      "source": [
        "plt.figure(figsize=(6,6))\n",
        "x = list(friendcount.index)\n",
        "y = [list(friendcount.loc['female'])[0],list(friendcount.loc['male'])[0]]\n",
        "plt.bar(x,y)\n",
        "plt.xlabel('Gender')\n",
        "plt.ylabel('Friends Count')\n",
        "plt.show()"
      ],
      "metadata": {
        "colab": {
          "base_uri": "https://localhost:8080/",
          "height": 399
        },
        "id": "AwV-i-sx6gVG",
        "outputId": "d8c1597a-ccbc-4011-83d8-f4076205fb54"
      },
      "execution_count": null,
      "outputs": [
        {
          "output_type": "display_data",
          "data": {
            "text/plain": [
              "<Figure size 432x432 with 1 Axes>"
            ],
            "image/png": "[encoded data removed]"
          },
          "metadata": {
            "needs_background": "light"
          }
        }
      ]
    },
    {
      "cell_type": "markdown",
      "source": [
        "####Observations:\n",
        "- Women have slightly more Facebook friends than men, but the bar graph suggests that the numbers are similar.\n",
        "- Women have **97,40,258 friends** \n",
        "- Men have **96,99,059 friends**"
      ],
      "metadata": {
        "id": "HWsk3V0iXSRn"
      }
    },
    {
      "cell_type": "markdown",
      "source": [
        "###Category of gender initiated for friend request"
      ],
      "metadata": {
        "id": "S542F2dY7XzM"
      }
    },
    {
      "cell_type": "code",
      "source": [
        "friendRequested = data.groupby('gender').agg({'friendships_initiated':['sum']})\n",
        "print(friendRequested)"
      ],
      "metadata": {
        "colab": {
          "base_uri": "https://localhost:8080/"
        },
        "id": "x-3AwSYB7jlC",
        "outputId": "2e547d5e-a7bb-48f9-bbda-7f9d554664a4"
      },
      "execution_count": null,
      "outputs": [
        {
          "output_type": "stream",
          "name": "stdout",
          "text": [
            "       friendships_initiated\n",
            "                         sum\n",
            "gender                      \n",
            "female               4584894\n",
            "male                 6053223\n"
          ]
        }
      ]
    },
    {
      "cell_type": "code",
      "source": [
        "plt.figure(figsize=(6,6))\n",
        "x = list(friendRequested.index)\n",
        "y = [list(friendRequested.loc['female'])[0],list(friendRequested.loc['male'])[0]]\n",
        "plt.bar(x,y)\n",
        "plt.xlabel('Gender')\n",
        "plt.ylabel('Friendship Initiation Count')\n",
        "plt.show()"
      ],
      "metadata": {
        "colab": {
          "base_uri": "https://localhost:8080/",
          "height": 399
        },
        "id": "-iBE78DG8PNZ",
        "outputId": "c1aaf821-8106-422f-d699-8245ad05fc68"
      },
      "execution_count": null,
      "outputs": [
        {
          "output_type": "display_data",
          "data": {
            "text/plain": [
              "<Figure size 432x432 with 1 Axes>"
            ],
            "image/png": "[encoded data removed]"
          },
          "metadata": {
            "needs_background": "light"
          }
        }
      ]
    },
    {
      "cell_type": "markdown",
      "source": [
        "####Observations:\n",
        "- **45,84,894** women requested for friendship. \n",
        "- **60,53,223** men sent friend requests.\n",
        "- Men are 32% more likely to initiate friendship over FB."
      ],
      "metadata": {
        "id": "inB_P_t8YWII"
      }
    },
    {
      "cell_type": "markdown",
      "source": [
        " ### Category has spent more days"
      ],
      "metadata": {
        "id": "Q18eb0QT8az9"
      }
    },
    {
      "cell_type": "code",
      "source": [
        "timespent = data.groupby('gender').agg({'tenure':['sum']})\n",
        "print(timespent)"
      ],
      "metadata": {
        "colab": {
          "base_uri": "https://localhost:8080/"
        },
        "id": "MotW3-LG8oD1",
        "outputId": "b28113d7-0529-4a48-fd6b-d3bc58f9b656"
      },
      "execution_count": null,
      "outputs": [
        {
          "output_type": "stream",
          "name": "stdout",
          "text": [
            "            tenure\n",
            "               sum\n",
            "gender            \n",
            "female  23637975.0\n",
            "male    29614237.0\n"
          ]
        }
      ]
    },
    {
      "cell_type": "code",
      "source": [
        "plt.figure(figsize=(6,6))\n",
        "x = list(timespent.index)\n",
        "y = [list(timespent.loc['female'])[0],list(timespent.loc['male'])[0]]\n",
        "plt.bar(x,y)\n",
        "plt.xlabel('Gender')\n",
        "plt.ylabel('No. of Days Spent')\n",
        "plt.show()"
      ],
      "metadata": {
        "colab": {
          "base_uri": "https://localhost:8080/",
          "height": 399
        },
        "id": "L1QFhA3d84wE",
        "outputId": "609a580a-0b09-481a-ea6c-09e833f6b455"
      },
      "execution_count": null,
      "outputs": [
        {
          "output_type": "display_data",
          "data": {
            "text/plain": [
              "<Figure size 432x432 with 1 Axes>"
            ],
            "image/png": "[encoded data removed]"
          },
          "metadata": {
            "needs_background": "light"
          }
        }
      ]
    },
    {
      "cell_type": "markdown",
      "source": [
        "####Observations:\n",
        "- Women have spent a total of **2,36,37,975 days** on Facebook.\n",
        "- Men have spent a total of **2,96,14,237 days** on Facebook.\n",
        "- Men have been using the FB more than women.  "
      ],
      "metadata": {
        "id": "Fyi1V-JQZ725"
      }
    },
    {
      "cell_type": "markdown",
      "source": [
        "###Category wise Likes"
      ],
      "metadata": {
        "id": "aiMTbjCEKOeg"
      }
    },
    {
      "cell_type": "code",
      "source": [
        "total_likes = data.groupby('gender').agg({'likes':['mean']})\n",
        "print(total_likes)"
      ],
      "metadata": {
        "colab": {
          "base_uri": "https://localhost:8080/"
        },
        "id": "0alVM_G0KW86",
        "outputId": "160bad7b-f0bd-4bd3-ba45-683b38d2ed8b"
      },
      "execution_count": null,
      "outputs": [
        {
          "output_type": "stream",
          "name": "stdout",
          "text": [
            "             likes\n",
            "              mean\n",
            "gender            \n",
            "female  260.051324\n",
            "male     84.838244\n"
          ]
        }
      ]
    },
    {
      "cell_type": "code",
      "source": [
        "plt.figure(figsize=(6,6))\n",
        "x = list(total_likes.index)\n",
        "y = [list(total_likes.loc['female'])[0],list(total_likes.loc['male'])[0]]\n",
        "plt.bar(x,y)\n",
        "plt.xlabel('Gender')\n",
        "plt.ylabel('No. of Likes')\n",
        "plt.show()"
      ],
      "metadata": {
        "colab": {
          "base_uri": "https://localhost:8080/",
          "height": 388
        },
        "id": "PMjGG55BKpsK",
        "outputId": "21dc5078-f038-44c4-a224-0decec496380"
      },
      "execution_count": null,
      "outputs": [
        {
          "output_type": "display_data",
          "data": {
            "text/plain": [
              "<Figure size 432x432 with 1 Axes>"
            ],
            "image/png": "[encoded data removed]"
          },
          "metadata": {
            "needs_background": "light"
          }
        }
      ]
    },
    {
      "cell_type": "markdown",
      "source": [
        "####Observations:\n",
        "\n",
        "- On Facebook, the average liked post by a woman is around 260, while the average liked post by a man is around 85.\n",
        "- Women like more posts than men. It is more than three times that of men. \n"
      ],
      "metadata": {
        "id": "_KmkossPblye"
      }
    },
    {
      "cell_type": "markdown",
      "source": [
        "Age vs gender"
      ],
      "metadata": {
        "id": "KNVNgZypLPLO"
      }
    },
    {
      "cell_type": "code",
      "source": [
        "avgAge = data.groupby('gender').agg({'age':['mean']})\n",
        "print(avgAge)"
      ],
      "metadata": {
        "colab": {
          "base_uri": "https://localhost:8080/"
        },
        "id": "NdWuBetQLTT5",
        "outputId": "de4ee143-6597-4422-97df-5bbbe0961de8"
      },
      "execution_count": null,
      "outputs": [
        {
          "output_type": "stream",
          "name": "stdout",
          "text": [
            "              age\n",
            "             mean\n",
            "gender           \n",
            "female  39.459905\n",
            "male    35.786737\n"
          ]
        }
      ]
    },
    {
      "cell_type": "code",
      "source": [
        "medianAge = data.groupby('gender').agg({'age':['median']})\n",
        "print(medianAge)"
      ],
      "metadata": {
        "colab": {
          "base_uri": "https://localhost:8080/"
        },
        "id": "b03sRBmhMRis",
        "outputId": "05ccaf14-1b53-4416-99d2-0e9997c548f6"
      },
      "execution_count": null,
      "outputs": [
        {
          "output_type": "stream",
          "name": "stdout",
          "text": [
            "          age\n",
            "       median\n",
            "gender       \n",
            "female   31.0\n",
            "male     27.0\n"
          ]
        }
      ]
    },
    {
      "cell_type": "code",
      "source": [
        "stdAge = data.groupby('gender').agg({'age':['std']})\n",
        "print(stdAge)"
      ],
      "metadata": {
        "colab": {
          "base_uri": "https://localhost:8080/"
        },
        "id": "VG6FPz7nMZJh",
        "outputId": "3ba6d7f6-8174-43a9-e6f7-1ebff25b51ee"
      },
      "execution_count": null,
      "outputs": [
        {
          "output_type": "stream",
          "name": "stdout",
          "text": [
            "              age\n",
            "              std\n",
            "gender           \n",
            "female  23.007566\n",
            "male    22.175795\n"
          ]
        }
      ]
    },
    {
      "cell_type": "markdown",
      "source": [
        "####Observations:\n",
        "\\begin{array}{|c|c|} \\hline\n",
        "Gender& mean & median & std. dev. \\\\ \\hline\n",
        "female & 39.46 & 31.00 & 23.01 \\\\\n",
        "male & 35.79 & 27.00 & 22.17 \\\\ \\hline\n",
        "\\end{array}\n",
        "\n",
        "*  Ages vary widely around the mean.\n",
        "*  As the standard deviation has varied substantially, it is possible to conclude that the age of the users for both genders varies considerably.\n",
        "*  Women users range in age from **16 to 62 years** old, while men users range in age from **14 to 58 years** old. \n",
        "\n",
        "* Average women are more involved in the facebook are around the age of **39 years**, whereas the male users are around **36 years** of age."
      ],
      "metadata": {
        "id": "yfEn_fADMwVM"
      }
    },
    {
      "cell_type": "markdown",
      "source": [
        "###Least active users on Facebook"
      ],
      "metadata": {
        "id": "6Jn-ylgc9EOQ"
      }
    },
    {
      "cell_type": "code",
      "source": [
        "print('People with no friends = ',(data['friend_count'] == 0).sum())"
      ],
      "metadata": {
        "colab": {
          "base_uri": "https://localhost:8080/"
        },
        "id": "rc6gO4y1914E",
        "outputId": "70655715-a0eb-453e-a88a-b482f6cbd163"
      },
      "execution_count": null,
      "outputs": [
        {
          "output_type": "stream",
          "name": "stdout",
          "text": [
            "People with no friends =  1962\n"
          ]
        }
      ]
    },
    {
      "cell_type": "code",
      "source": [
        "print('People who do not like anything = ',(data['likes'] == 0).sum())"
      ],
      "metadata": {
        "colab": {
          "base_uri": "https://localhost:8080/"
        },
        "id": "etnYPu_s-SU4",
        "outputId": "a7eeb54d-ce7a-4554-a0ab-076101384014"
      },
      "execution_count": null,
      "outputs": [
        {
          "output_type": "stream",
          "name": "stdout",
          "text": [
            "People who do not like anything =  22308\n"
          ]
        }
      ]
    },
    {
      "cell_type": "code",
      "source": [
        "print('People who did not receive any likes = ',(data['likes_received'] == 0).sum())"
      ],
      "metadata": {
        "colab": {
          "base_uri": "https://localhost:8080/"
        },
        "id": "unE3locf-sgv",
        "outputId": "41bffb33-7140-46de-e775-3e4b2aae6cc1"
      },
      "execution_count": null,
      "outputs": [
        {
          "output_type": "stream",
          "name": "stdout",
          "text": [
            "People who did not receive any likes =  24428\n"
          ]
        }
      ]
    },
    {
      "cell_type": "markdown",
      "source": [
        "####Observations:\n",
        "- **1,962** people have no friends.\n",
        "- **22,308** Users of Facebook do not like anything.\n",
        "- **24,428** users who have not received any likes."
      ],
      "metadata": {
        "id": "vIPw5lGbcc9l"
      }
    },
    {
      "cell_type": "markdown",
      "source": [
        "###Analysis based on the device used"
      ],
      "metadata": {
        "id": "8meTM-gy_O-x"
      }
    },
    {
      "cell_type": "code",
      "source": [
        "avgMobileLikes = data.groupby('gender').agg({'mobile_likes':['mean']})\n",
        "print(avgMobileLikes)"
      ],
      "metadata": {
        "colab": {
          "base_uri": "https://localhost:8080/"
        },
        "id": "qZGfeL3_Bknl",
        "outputId": "ff8fc407-fa60-49ec-c69b-a6f19c09cc4d"
      },
      "execution_count": null,
      "outputs": [
        {
          "output_type": "stream",
          "name": "stdout",
          "text": [
            "       mobile_likes\n",
            "               mean\n",
            "gender             \n",
            "female   172.912928\n",
            "male      60.348176\n"
          ]
        }
      ]
    },
    {
      "cell_type": "code",
      "source": [
        "avgWebLikes = data.groupby('gender').agg({'www_likes':['mean']})\n",
        "print(avgWebLikes)"
      ],
      "metadata": {
        "colab": {
          "base_uri": "https://localhost:8080/"
        },
        "id": "FbyqXnG7ETII",
        "outputId": "e6a58c51-3c2a-4549-d6f9-2465d516127a"
      },
      "execution_count": null,
      "outputs": [
        {
          "output_type": "stream",
          "name": "stdout",
          "text": [
            "        www_likes\n",
            "             mean\n",
            "gender           \n",
            "female  87.138297\n",
            "male    24.490034\n"
          ]
        }
      ]
    },
    {
      "cell_type": "markdown",
      "source": [
        "####Observations:\n",
        "* Devices used by men and women for liking a post.\n",
        "\\begin{array}{|c|c|} \\hline\n",
        "Gender & Mobile (Average) & PC (Average  \\\\ \\hline\n",
        "Female & 172.91 & 87.14  \\\\\n",
        "Men & 60.35 & 24.49  \\\\  \\hline\n",
        "\\end{array}\n",
        "\n",
        "* As we saw in the preceding observation, women are more engaged with likes, and a similar pattern is seen here.\n",
        "\n",
        "* Moreover, women are more likely to utilise mobile devices and websites than men. It is greater than **double for women compared to men**. And comparable outcomes can be observed on the web."
      ],
      "metadata": {
        "id": "Fdfgli52dHRJ"
      }
    },
    {
      "cell_type": "markdown",
      "metadata": {
        "id": "Pqk4cV2wrIIZ"
      },
      "source": [
        "---\n",
        "<a name = Section9></a>\n",
        "# **9. Summarization**\n",
        "---"
      ]
    },
    {
      "cell_type": "markdown",
      "metadata": {
        "id": "wducAS9QrPfZ"
      },
      "source": [
        "<a name = Section91></a>\n",
        "### **9.1 Conclusion**\n",
        "\n",
        "\n",
        "- Women have more friends than men. **9.7 millions** for women and **9.6 millions** for men, so the women are around 100K ahead of the men.\n",
        "\n",
        "- **Six million men initiate friendships, compared to 4.5 million women.** So, men are more than 30% likely to initiate the friendship.\n",
        "- **Men spend 29 million days** on the platform compared to women, who spend **23 million days**. Around 6 million days are more often spent by men on Facebook, which is **more than 25% as compared to women**.\n",
        "- When looking at the likes data, on average of **260 women** like the posts, while **85 men** like the posts. There are three times as many men as women pressing the \"like\" button.\n",
        "-Comparing the age distribution to the gender distribution We discovered that the ages of men and women varied substantially,indicating that all age groups were included for both sexes.\n",
        "- **1962** people have no friends; **22,308** users of Facebook do not like anything; and **24,428** users have not received any likes.\n",
        "- Since women are more involved in liking posts, **more women are using mobile and web browsers for liking posts**, so the trend is as expected. It is **greater than double for women compared to men**. However, **mobile is more used** for liking the posts.\n",
        "\n",
        "\n"
      ]
    },
    {
      "cell_type": "markdown",
      "metadata": {
        "id": "z3MtiiACrVJq"
      },
      "source": [
        "<a name = Section92></a>\n",
        "### **9.2 Actionable Insights**\n",
        "\n",
        "In light of what has been discussed previously, it is reasonable to conclude:\n",
        "\n",
        "- Anyone curious about Facebook will find that a sizable population is already active on the site. Every minute, people of all ages use the platform, and its user base continues to grow.\n",
        "\n",
        "- Once a post is shared, it becomes available to a large audience. Many people engage in activities of both sexes, therefore content can be written accordingly.\n",
        "\n",
        "- Let's imagine someone wants to get their name out there; Facebook is a great place to start."
      ]
    }
  ]
}